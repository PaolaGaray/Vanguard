{
 "cells": [
  {
   "cell_type": "code",
   "execution_count": 1,
   "id": "9cb215cd-10cd-4963-a647-8b3968fa5465",
   "metadata": {},
   "outputs": [],
   "source": [
    "import pandas as pd\n",
    "import matplotlib.pyplot as plt\n",
    "import seaborn as sns\n",
    "import numpy as np\n",
    "\n",
    "%matplotlib inline"
   ]
  },
  {
   "cell_type": "code",
   "execution_count": 2,
   "id": "72150724-ea44-405b-8312-6f9004125e25",
   "metadata": {},
   "outputs": [],
   "source": [
    "#data about samples for test\n",
    "#path_dclean = r\"C:\\Users\\tania\\Documents\\FormationDataIronhack\\Cours_semaine5\\Projectweek5\\Vanguard\\data\\clean\\df_final_experiment_web_data_demo.csv\"\n",
    "#data_cleaned_total=pd.read_csv(path_dclean)\n",
    "#demographical data\n",
    "path_demo=r\"C:\\Users\\tania\\Documents\\FormationDataIronhack\\Cours_semaine5\\Projectweek5\\Vanguard\\data\\clean\\clean_df_final_demo.csv\"\n",
    "data_demo=pd.read_csv(path_demo,low_memory=False)"
   ]
  },
  {
   "cell_type": "code",
   "execution_count": 3,
   "id": "06b6b2f2-5eba-4ebe-8634-beafc58e4412",
   "metadata": {},
   "outputs": [
    {
     "data": {
      "text/plain": [
       "client_id             int64\n",
       "clnt_tenure_yr        int64\n",
       "clnt_tenure_mnth      int64\n",
       "clnt_age            float64\n",
       "gendr                object\n",
       "num_accts             int64\n",
       "bal                 float64\n",
       "calls_6_mnth          int64\n",
       "logons_6_mnth         int64\n",
       "Variation            object\n",
       "dtype: object"
      ]
     },
     "execution_count": 3,
     "metadata": {},
     "output_type": "execute_result"
    }
   ],
   "source": [
    "data_demo.dtypes"
   ]
  },
  {
   "cell_type": "markdown",
   "id": "7e781936-0abf-4fda-a142-2c1d39157845",
   "metadata": {},
   "source": [
    "EDA: population caracteristic"
   ]
  },
  {
   "cell_type": "code",
   "execution_count": 5,
   "id": "9cc5d510-cc53-4708-8959-80c3b79dec48",
   "metadata": {},
   "outputs": [
    {
     "data": {
      "text/html": [
       "<div>\n",
       "<style scoped>\n",
       "    .dataframe tbody tr th:only-of-type {\n",
       "        vertical-align: middle;\n",
       "    }\n",
       "\n",
       "    .dataframe tbody tr th {\n",
       "        vertical-align: top;\n",
       "    }\n",
       "\n",
       "    .dataframe thead th {\n",
       "        text-align: right;\n",
       "    }\n",
       "</style>\n",
       "<table border=\"1\" class=\"dataframe\">\n",
       "  <thead>\n",
       "    <tr style=\"text-align: right;\">\n",
       "      <th></th>\n",
       "      <th>client_id</th>\n",
       "      <th>clnt_tenure_yr</th>\n",
       "      <th>clnt_tenure_mnth</th>\n",
       "      <th>clnt_age</th>\n",
       "      <th>gendr</th>\n",
       "      <th>num_accts</th>\n",
       "      <th>bal</th>\n",
       "      <th>calls_6_mnth</th>\n",
       "      <th>logons_6_mnth</th>\n",
       "      <th>Variation</th>\n",
       "    </tr>\n",
       "  </thead>\n",
       "  <tbody>\n",
       "    <tr>\n",
       "      <th>0</th>\n",
       "      <td>836976</td>\n",
       "      <td>6</td>\n",
       "      <td>73</td>\n",
       "      <td>60.5</td>\n",
       "      <td>U</td>\n",
       "      <td>2</td>\n",
       "      <td>45105.30</td>\n",
       "      <td>6</td>\n",
       "      <td>9</td>\n",
       "      <td>Test</td>\n",
       "    </tr>\n",
       "    <tr>\n",
       "      <th>1</th>\n",
       "      <td>2304905</td>\n",
       "      <td>7</td>\n",
       "      <td>94</td>\n",
       "      <td>58.0</td>\n",
       "      <td>U</td>\n",
       "      <td>2</td>\n",
       "      <td>110860.30</td>\n",
       "      <td>6</td>\n",
       "      <td>9</td>\n",
       "      <td>Control</td>\n",
       "    </tr>\n",
       "    <tr>\n",
       "      <th>2</th>\n",
       "      <td>1439522</td>\n",
       "      <td>5</td>\n",
       "      <td>64</td>\n",
       "      <td>32.0</td>\n",
       "      <td>U</td>\n",
       "      <td>2</td>\n",
       "      <td>52467.79</td>\n",
       "      <td>6</td>\n",
       "      <td>9</td>\n",
       "      <td>Test</td>\n",
       "    </tr>\n",
       "    <tr>\n",
       "      <th>3</th>\n",
       "      <td>1562045</td>\n",
       "      <td>16</td>\n",
       "      <td>198</td>\n",
       "      <td>49.0</td>\n",
       "      <td>M</td>\n",
       "      <td>2</td>\n",
       "      <td>67454.65</td>\n",
       "      <td>3</td>\n",
       "      <td>6</td>\n",
       "      <td>Test</td>\n",
       "    </tr>\n",
       "    <tr>\n",
       "      <th>4</th>\n",
       "      <td>5126305</td>\n",
       "      <td>12</td>\n",
       "      <td>145</td>\n",
       "      <td>33.0</td>\n",
       "      <td>F</td>\n",
       "      <td>2</td>\n",
       "      <td>103671.75</td>\n",
       "      <td>0</td>\n",
       "      <td>3</td>\n",
       "      <td>Control</td>\n",
       "    </tr>\n",
       "  </tbody>\n",
       "</table>\n",
       "</div>"
      ],
      "text/plain": [
       "   client_id  clnt_tenure_yr  clnt_tenure_mnth  clnt_age gendr  num_accts  \\\n",
       "0     836976               6                73      60.5     U          2   \n",
       "1    2304905               7                94      58.0     U          2   \n",
       "2    1439522               5                64      32.0     U          2   \n",
       "3    1562045              16               198      49.0     M          2   \n",
       "4    5126305              12               145      33.0     F          2   \n",
       "\n",
       "         bal  calls_6_mnth  logons_6_mnth Variation  \n",
       "0   45105.30             6              9      Test  \n",
       "1  110860.30             6              9   Control  \n",
       "2   52467.79             6              9      Test  \n",
       "3   67454.65             3              6      Test  \n",
       "4  103671.75             0              3   Control  "
      ]
     },
     "execution_count": 5,
     "metadata": {},
     "output_type": "execute_result"
    }
   ],
   "source": [
    "data_demo.head()"
   ]
  },
  {
   "cell_type": "code",
   "execution_count": 53,
   "id": "ca2b7f94-baec-4fce-91fa-949b1aa5a607",
   "metadata": {},
   "outputs": [
    {
     "data": {
      "text/plain": [
       "(70594, 10)"
      ]
     },
     "execution_count": 53,
     "metadata": {},
     "output_type": "execute_result"
    }
   ],
   "source": [
    "data_demo.shape"
   ]
  },
  {
   "cell_type": "code",
   "execution_count": null,
   "id": "6bb4f1f8-6e6a-438a-b3ba-b3ec028d693d",
   "metadata": {},
   "outputs": [],
   "source": []
  },
  {
   "cell_type": "code",
   "execution_count": 8,
   "id": "62dcd39d-3007-473a-a937-f395a29b1d32",
   "metadata": {},
   "outputs": [
    {
     "data": {
      "text/plain": [
       "Index(['client_id', 'clnt_tenure_yr', 'clnt_tenure_mnth', 'clnt_age', 'gendr',\n",
       "       'num_accts', 'bal', 'calls_6_mnth', 'logons_6_mnth', 'Variation',\n",
       "       'clnt_age_cat', 'clnt_tenure_yr_cat', 'num_accts_cat'],\n",
       "      dtype='object')"
      ]
     },
     "execution_count": 8,
     "metadata": {},
     "output_type": "execute_result"
    }
   ],
   "source": [
    "data_demo.columns"
   ]
  },
  {
   "cell_type": "code",
   "execution_count": 4,
   "id": "60c90c7e-9be2-4145-a3ef-5307fcee1b70",
   "metadata": {},
   "outputs": [
    {
     "name": "stdout",
     "output_type": "stream",
     "text": [
      "                  clnt_tenure_yr  clnt_tenure_mnth  clnt_age  num_accts  \\\n",
      "clnt_tenure_yr          1.000000          0.998936  0.309372   0.152324   \n",
      "clnt_tenure_mnth        0.998936          1.000000  0.309675   0.152028   \n",
      "clnt_age                0.309372          0.309675  1.000000  -0.017689   \n",
      "num_accts               0.152324          0.152028 -0.017689   1.000000   \n",
      "bal                     0.203618          0.202881  0.209549   0.268746   \n",
      "calls_6_mnth            0.049921          0.047897  0.026734   0.235405   \n",
      "logons_6_mnth           0.048521          0.046694  0.084683   0.224409   \n",
      "\n",
      "                       bal  calls_6_mnth  logons_6_mnth  \n",
      "clnt_tenure_yr    0.203618      0.049921       0.048521  \n",
      "clnt_tenure_mnth  0.202881      0.047897       0.046694  \n",
      "clnt_age          0.209549      0.026734       0.084683  \n",
      "num_accts         0.268746      0.235405       0.224409  \n",
      "bal               1.000000      0.162167       0.165384  \n",
      "calls_6_mnth      0.162167      1.000000       0.822217  \n",
      "logons_6_mnth     0.165384      0.822217       1.000000  \n"
     ]
    }
   ],
   "source": [
    "#correlation matrix considering genders removing gender for correlation matrix\n",
    "# List of columns to encode\n",
    "category = ['clnt_tenure_yr', 'clnt_tenure_mnth', 'clnt_age', 'num_accts', 'bal', 'calls_6_mnth', 'logons_6_mnth']\n",
    "df_selected_columns = data_demo[category].copy()\n",
    "\n",
    "# Calculate the correlation matrix\n",
    "correlation_matrix = df_selected_columns.corr()\n",
    "\n",
    "# Print the correlation matrix\n",
    "print(correlation_matrix)"
   ]
  },
  {
   "cell_type": "code",
   "execution_count": 59,
   "id": "1aba1bf8-c1c0-444b-b90d-62ea5c3a9010",
   "metadata": {},
   "outputs": [
    {
     "data": {
      "image/png": "[encoded data removed]",
      "text/plain": [
       "<Figure size 640x480 with 2 Axes>"
      ]
     },
     "metadata": {},
     "output_type": "display_data"
    }
   ],
   "source": [
    "#Code that need adapting according to OS/version of packages\n",
    "#sns.heatmap(correlation_matrix, annot=True, cmap=\"YlGnBu\", fmt=\"d\");\n",
    "#plt.figure(figsize=(10, 8))\n",
    "sns.heatmap(correlation_matrix, annot=True, cmap=\"Reds\", fmt=\".2f\")\n",
    "plt.show()"
   ]
  },
  {
   "cell_type": "code",
   "execution_count": 5,
   "id": "e24d90fd-72dc-4a73-9488-68000cce7878",
   "metadata": {},
   "outputs": [],
   "source": [
    "#modify df to consider 'clnt_age' ,'clnt_tenure_yr' and num_accts  as categorical variables\n",
    "#Age column\n",
    "data_demo = data_demo.assign(clnt_age_cat=pd.cut(data_demo['clnt_age'], bins=[0, 18, 25, 35, 45, 55, 65,75, 100], labels=['0-17', '18-24', '25-34', '35-44', '45-54', '55-64', '65-74','over75']))\n",
    "#Tenure column\n",
    "data_demo = data_demo.assign(clnt_tenure_yr_cat=pd.cut(data_demo['clnt_tenure_yr'], bins=[0, 5, 10, 15, 20, 25, 30, 35, 40, 45, 50, 55, 60, np.inf], labels=['0-4', '5-9', '10-14', '15-19', '20-24', '25-29', '30-34', '35-39', '40-44', '45-49', '50-54', '55-59', '60+']))\n",
    "#Number of account\n",
    "data_demo = data_demo.assign(num_accts_cat=pd.cut(data_demo['clnt_tenure_yr'], bins=8,labels=[1,2,3,4,5,6,7,8]))"
   ]
  },
  {
   "cell_type": "code",
   "execution_count": 7,
   "id": "0efde0a0-6be0-4f78-9b06-7373e54cae38",
   "metadata": {},
   "outputs": [],
   "source": [
    "data_demo_modify = data_demo.copy()"
   ]
  },
  {
   "cell_type": "code",
   "execution_count": 6,
   "id": "c621b7d4-151a-44ef-9692-dc8d2b16841d",
   "metadata": {},
   "outputs": [
    {
     "data": {
      "text/plain": [
       "client_id                int64\n",
       "clnt_tenure_yr           int64\n",
       "clnt_tenure_mnth         int64\n",
       "clnt_age               float64\n",
       "gendr                   object\n",
       "num_accts                int64\n",
       "bal                    float64\n",
       "calls_6_mnth             int64\n",
       "logons_6_mnth            int64\n",
       "Variation               object\n",
       "clnt_age_cat          category\n",
       "clnt_tenure_yr_cat    category\n",
       "num_accts_cat         category\n",
       "dtype: object"
      ]
     },
     "execution_count": 6,
     "metadata": {},
     "output_type": "execute_result"
    }
   ],
   "source": [
    "data_demo.dtypes"
   ]
  },
  {
   "cell_type": "code",
   "execution_count": 28,
   "id": "a70efb96-eba9-45e5-ac3b-f4f741ae55e9",
   "metadata": {},
   "outputs": [
    {
     "data": {
      "text/html": [
       "<div>\n",
       "<style scoped>\n",
       "    .dataframe tbody tr th:only-of-type {\n",
       "        vertical-align: middle;\n",
       "    }\n",
       "\n",
       "    .dataframe tbody tr th {\n",
       "        vertical-align: top;\n",
       "    }\n",
       "\n",
       "    .dataframe thead th {\n",
       "        text-align: right;\n",
       "    }\n",
       "</style>\n",
       "<table border=\"1\" class=\"dataframe\">\n",
       "  <thead>\n",
       "    <tr style=\"text-align: right;\">\n",
       "      <th></th>\n",
       "      <th>client_id</th>\n",
       "      <th>clnt_tenure_yr</th>\n",
       "      <th>clnt_tenure_mnth</th>\n",
       "      <th>clnt_age</th>\n",
       "      <th>gendr</th>\n",
       "      <th>num_accts</th>\n",
       "      <th>bal</th>\n",
       "      <th>calls_6_mnth</th>\n",
       "      <th>logons_6_mnth</th>\n",
       "      <th>Variation</th>\n",
       "      <th>clnt_age_cat</th>\n",
       "      <th>clnt_tenure_yr_cat</th>\n",
       "    </tr>\n",
       "  </thead>\n",
       "  <tbody>\n",
       "    <tr>\n",
       "      <th>0</th>\n",
       "      <td>836976</td>\n",
       "      <td>6</td>\n",
       "      <td>73</td>\n",
       "      <td>60.5</td>\n",
       "      <td>U</td>\n",
       "      <td>2</td>\n",
       "      <td>45105.30</td>\n",
       "      <td>6</td>\n",
       "      <td>9</td>\n",
       "      <td>Test</td>\n",
       "      <td>55-64</td>\n",
       "      <td>5-9</td>\n",
       "    </tr>\n",
       "    <tr>\n",
       "      <th>1</th>\n",
       "      <td>2304905</td>\n",
       "      <td>7</td>\n",
       "      <td>94</td>\n",
       "      <td>58.0</td>\n",
       "      <td>U</td>\n",
       "      <td>2</td>\n",
       "      <td>110860.30</td>\n",
       "      <td>6</td>\n",
       "      <td>9</td>\n",
       "      <td>Control</td>\n",
       "      <td>55-64</td>\n",
       "      <td>5-9</td>\n",
       "    </tr>\n",
       "    <tr>\n",
       "      <th>2</th>\n",
       "      <td>1439522</td>\n",
       "      <td>5</td>\n",
       "      <td>64</td>\n",
       "      <td>32.0</td>\n",
       "      <td>U</td>\n",
       "      <td>2</td>\n",
       "      <td>52467.79</td>\n",
       "      <td>6</td>\n",
       "      <td>9</td>\n",
       "      <td>Test</td>\n",
       "      <td>25-34</td>\n",
       "      <td>0-4</td>\n",
       "    </tr>\n",
       "    <tr>\n",
       "      <th>3</th>\n",
       "      <td>1562045</td>\n",
       "      <td>16</td>\n",
       "      <td>198</td>\n",
       "      <td>49.0</td>\n",
       "      <td>M</td>\n",
       "      <td>2</td>\n",
       "      <td>67454.65</td>\n",
       "      <td>3</td>\n",
       "      <td>6</td>\n",
       "      <td>Test</td>\n",
       "      <td>45-54</td>\n",
       "      <td>15-19</td>\n",
       "    </tr>\n",
       "    <tr>\n",
       "      <th>4</th>\n",
       "      <td>5126305</td>\n",
       "      <td>12</td>\n",
       "      <td>145</td>\n",
       "      <td>33.0</td>\n",
       "      <td>F</td>\n",
       "      <td>2</td>\n",
       "      <td>103671.75</td>\n",
       "      <td>0</td>\n",
       "      <td>3</td>\n",
       "      <td>Control</td>\n",
       "      <td>25-34</td>\n",
       "      <td>10-14</td>\n",
       "    </tr>\n",
       "  </tbody>\n",
       "</table>\n",
       "</div>"
      ],
      "text/plain": [
       "   client_id  clnt_tenure_yr  clnt_tenure_mnth  clnt_age gendr  num_accts  \\\n",
       "0     836976               6                73      60.5     U          2   \n",
       "1    2304905               7                94      58.0     U          2   \n",
       "2    1439522               5                64      32.0     U          2   \n",
       "3    1562045              16               198      49.0     M          2   \n",
       "4    5126305              12               145      33.0     F          2   \n",
       "\n",
       "         bal  calls_6_mnth  logons_6_mnth Variation clnt_age_cat  \\\n",
       "0   45105.30             6              9      Test        55-64   \n",
       "1  110860.30             6              9   Control        55-64   \n",
       "2   52467.79             6              9      Test        25-34   \n",
       "3   67454.65             3              6      Test        45-54   \n",
       "4  103671.75             0              3   Control        25-34   \n",
       "\n",
       "  clnt_tenure_yr_cat  \n",
       "0                5-9  \n",
       "1                5-9  \n",
       "2                0-4  \n",
       "3              15-19  \n",
       "4              10-14  "
      ]
     },
     "execution_count": 28,
     "metadata": {},
     "output_type": "execute_result"
    }
   ],
   "source": [
    "data_demo.head()"
   ]
  },
  {
   "cell_type": "code",
   "execution_count": 9,
   "id": "71ac7c97-3745-4f99-a638-5af86f25eaba",
   "metadata": {},
   "outputs": [
    {
     "data": {
      "text/html": [
       "<div>\n",
       "<style scoped>\n",
       "    .dataframe tbody tr th:only-of-type {\n",
       "        vertical-align: middle;\n",
       "    }\n",
       "\n",
       "    .dataframe tbody tr th {\n",
       "        vertical-align: top;\n",
       "    }\n",
       "\n",
       "    .dataframe thead th {\n",
       "        text-align: right;\n",
       "    }\n",
       "</style>\n",
       "<table border=\"1\" class=\"dataframe\">\n",
       "  <thead>\n",
       "    <tr style=\"text-align: right;\">\n",
       "      <th></th>\n",
       "      <th>client_id</th>\n",
       "      <th>clnt_tenure_yr</th>\n",
       "      <th>clnt_tenure_mnth</th>\n",
       "      <th>clnt_age</th>\n",
       "      <th>gendr</th>\n",
       "      <th>num_accts</th>\n",
       "      <th>bal</th>\n",
       "      <th>calls_6_mnth</th>\n",
       "      <th>logons_6_mnth</th>\n",
       "      <th>Variation</th>\n",
       "      <th>clnt_age_cat</th>\n",
       "      <th>clnt_tenure_yr_cat</th>\n",
       "      <th>num_accts_cat</th>\n",
       "    </tr>\n",
       "  </thead>\n",
       "  <tbody>\n",
       "    <tr>\n",
       "      <th>count</th>\n",
       "      <td>7.059400e+04</td>\n",
       "      <td>70594.000000</td>\n",
       "      <td>70594.000000</td>\n",
       "      <td>70594.000000</td>\n",
       "      <td>70594</td>\n",
       "      <td>70594.000000</td>\n",
       "      <td>7.059400e+04</td>\n",
       "      <td>70594.000000</td>\n",
       "      <td>70594.000000</td>\n",
       "      <td>50487</td>\n",
       "      <td>70594</td>\n",
       "      <td>70594</td>\n",
       "      <td>70594.0</td>\n",
       "    </tr>\n",
       "    <tr>\n",
       "      <th>unique</th>\n",
       "      <td>NaN</td>\n",
       "      <td>NaN</td>\n",
       "      <td>NaN</td>\n",
       "      <td>NaN</td>\n",
       "      <td>3</td>\n",
       "      <td>NaN</td>\n",
       "      <td>NaN</td>\n",
       "      <td>NaN</td>\n",
       "      <td>NaN</td>\n",
       "      <td>2</td>\n",
       "      <td>8</td>\n",
       "      <td>12</td>\n",
       "      <td>8.0</td>\n",
       "    </tr>\n",
       "    <tr>\n",
       "      <th>top</th>\n",
       "      <td>NaN</td>\n",
       "      <td>NaN</td>\n",
       "      <td>NaN</td>\n",
       "      <td>NaN</td>\n",
       "      <td>U</td>\n",
       "      <td>NaN</td>\n",
       "      <td>NaN</td>\n",
       "      <td>NaN</td>\n",
       "      <td>NaN</td>\n",
       "      <td>Test</td>\n",
       "      <td>25-34</td>\n",
       "      <td>5-9</td>\n",
       "      <td>1.0</td>\n",
       "    </tr>\n",
       "    <tr>\n",
       "      <th>freq</th>\n",
       "      <td>NaN</td>\n",
       "      <td>NaN</td>\n",
       "      <td>NaN</td>\n",
       "      <td>NaN</td>\n",
       "      <td>24125</td>\n",
       "      <td>NaN</td>\n",
       "      <td>NaN</td>\n",
       "      <td>NaN</td>\n",
       "      <td>NaN</td>\n",
       "      <td>26961</td>\n",
       "      <td>14551</td>\n",
       "      <td>22223</td>\n",
       "      <td>31620.0</td>\n",
       "    </tr>\n",
       "    <tr>\n",
       "      <th>mean</th>\n",
       "      <td>5.005026e+06</td>\n",
       "      <td>12.053007</td>\n",
       "      <td>150.659999</td>\n",
       "      <td>46.442240</td>\n",
       "      <td>NaN</td>\n",
       "      <td>2.255532</td>\n",
       "      <td>1.474467e+05</td>\n",
       "      <td>3.382469</td>\n",
       "      <td>5.566720</td>\n",
       "      <td>NaN</td>\n",
       "      <td>NaN</td>\n",
       "      <td>NaN</td>\n",
       "      <td>NaN</td>\n",
       "    </tr>\n",
       "    <tr>\n",
       "      <th>std</th>\n",
       "      <td>2.877289e+06</td>\n",
       "      <td>6.871850</td>\n",
       "      <td>82.090264</td>\n",
       "      <td>15.591273</td>\n",
       "      <td>NaN</td>\n",
       "      <td>0.535000</td>\n",
       "      <td>3.015106e+05</td>\n",
       "      <td>2.236595</td>\n",
       "      <td>2.353296</td>\n",
       "      <td>NaN</td>\n",
       "      <td>NaN</td>\n",
       "      <td>NaN</td>\n",
       "      <td>NaN</td>\n",
       "    </tr>\n",
       "    <tr>\n",
       "      <th>min</th>\n",
       "      <td>1.690000e+02</td>\n",
       "      <td>2.000000</td>\n",
       "      <td>33.000000</td>\n",
       "      <td>13.500000</td>\n",
       "      <td>NaN</td>\n",
       "      <td>1.000000</td>\n",
       "      <td>1.378942e+04</td>\n",
       "      <td>0.000000</td>\n",
       "      <td>1.000000</td>\n",
       "      <td>NaN</td>\n",
       "      <td>NaN</td>\n",
       "      <td>NaN</td>\n",
       "      <td>NaN</td>\n",
       "    </tr>\n",
       "    <tr>\n",
       "      <th>25%</th>\n",
       "      <td>2.519543e+06</td>\n",
       "      <td>6.000000</td>\n",
       "      <td>82.000000</td>\n",
       "      <td>32.500000</td>\n",
       "      <td>NaN</td>\n",
       "      <td>2.000000</td>\n",
       "      <td>3.734660e+04</td>\n",
       "      <td>1.000000</td>\n",
       "      <td>4.000000</td>\n",
       "      <td>NaN</td>\n",
       "      <td>NaN</td>\n",
       "      <td>NaN</td>\n",
       "      <td>NaN</td>\n",
       "    </tr>\n",
       "    <tr>\n",
       "      <th>50%</th>\n",
       "      <td>5.016974e+06</td>\n",
       "      <td>11.000000</td>\n",
       "      <td>136.000000</td>\n",
       "      <td>47.000000</td>\n",
       "      <td>NaN</td>\n",
       "      <td>2.000000</td>\n",
       "      <td>6.333459e+04</td>\n",
       "      <td>3.000000</td>\n",
       "      <td>5.000000</td>\n",
       "      <td>NaN</td>\n",
       "      <td>NaN</td>\n",
       "      <td>NaN</td>\n",
       "      <td>NaN</td>\n",
       "    </tr>\n",
       "    <tr>\n",
       "      <th>75%</th>\n",
       "      <td>7.483074e+06</td>\n",
       "      <td>16.000000</td>\n",
       "      <td>192.000000</td>\n",
       "      <td>59.000000</td>\n",
       "      <td>NaN</td>\n",
       "      <td>2.000000</td>\n",
       "      <td>1.375461e+05</td>\n",
       "      <td>6.000000</td>\n",
       "      <td>7.000000</td>\n",
       "      <td>NaN</td>\n",
       "      <td>NaN</td>\n",
       "      <td>NaN</td>\n",
       "      <td>NaN</td>\n",
       "    </tr>\n",
       "    <tr>\n",
       "      <th>max</th>\n",
       "      <td>9.999839e+06</td>\n",
       "      <td>62.000000</td>\n",
       "      <td>749.000000</td>\n",
       "      <td>96.000000</td>\n",
       "      <td>NaN</td>\n",
       "      <td>8.000000</td>\n",
       "      <td>1.632004e+07</td>\n",
       "      <td>7.000000</td>\n",
       "      <td>9.000000</td>\n",
       "      <td>NaN</td>\n",
       "      <td>NaN</td>\n",
       "      <td>NaN</td>\n",
       "      <td>NaN</td>\n",
       "    </tr>\n",
       "  </tbody>\n",
       "</table>\n",
       "</div>"
      ],
      "text/plain": [
       "           client_id  clnt_tenure_yr  clnt_tenure_mnth      clnt_age  gendr  \\\n",
       "count   7.059400e+04    70594.000000      70594.000000  70594.000000  70594   \n",
       "unique           NaN             NaN               NaN           NaN      3   \n",
       "top              NaN             NaN               NaN           NaN      U   \n",
       "freq             NaN             NaN               NaN           NaN  24125   \n",
       "mean    5.005026e+06       12.053007        150.659999     46.442240    NaN   \n",
       "std     2.877289e+06        6.871850         82.090264     15.591273    NaN   \n",
       "min     1.690000e+02        2.000000         33.000000     13.500000    NaN   \n",
       "25%     2.519543e+06        6.000000         82.000000     32.500000    NaN   \n",
       "50%     5.016974e+06       11.000000        136.000000     47.000000    NaN   \n",
       "75%     7.483074e+06       16.000000        192.000000     59.000000    NaN   \n",
       "max     9.999839e+06       62.000000        749.000000     96.000000    NaN   \n",
       "\n",
       "           num_accts           bal  calls_6_mnth  logons_6_mnth Variation  \\\n",
       "count   70594.000000  7.059400e+04  70594.000000   70594.000000     50487   \n",
       "unique           NaN           NaN           NaN            NaN         2   \n",
       "top              NaN           NaN           NaN            NaN      Test   \n",
       "freq             NaN           NaN           NaN            NaN     26961   \n",
       "mean        2.255532  1.474467e+05      3.382469       5.566720       NaN   \n",
       "std         0.535000  3.015106e+05      2.236595       2.353296       NaN   \n",
       "min         1.000000  1.378942e+04      0.000000       1.000000       NaN   \n",
       "25%         2.000000  3.734660e+04      1.000000       4.000000       NaN   \n",
       "50%         2.000000  6.333459e+04      3.000000       5.000000       NaN   \n",
       "75%         2.000000  1.375461e+05      6.000000       7.000000       NaN   \n",
       "max         8.000000  1.632004e+07      7.000000       9.000000       NaN   \n",
       "\n",
       "       clnt_age_cat clnt_tenure_yr_cat  num_accts_cat  \n",
       "count         70594              70594        70594.0  \n",
       "unique            8                 12            8.0  \n",
       "top           25-34                5-9            1.0  \n",
       "freq          14551              22223        31620.0  \n",
       "mean            NaN                NaN            NaN  \n",
       "std             NaN                NaN            NaN  \n",
       "min             NaN                NaN            NaN  \n",
       "25%             NaN                NaN            NaN  \n",
       "50%             NaN                NaN            NaN  \n",
       "75%             NaN                NaN            NaN  \n",
       "max             NaN                NaN            NaN  "
      ]
     },
     "execution_count": 9,
     "metadata": {},
     "output_type": "execute_result"
    }
   ],
   "source": [
    "data_demo.describe(include=\"all\")"
   ]
  },
  {
   "cell_type": "code",
   "execution_count": 10,
   "id": "1e87f7c7-1dbd-47e6-9f80-9d3938e130c2",
   "metadata": {},
   "outputs": [],
   "source": [
    "#stat calculations for numerical variables\n",
    "def calc_stat(df, columns):\n",
    "    # Initialize an empty list to store the stats for each column\n",
    "    stats_list = []\n",
    "    \n",
    "    # Loop through each column in the list\n",
    "    for column in columns:\n",
    "        # Calculate the required statistics\n",
    "        mean_column = df[column].mean()\n",
    "        median_column = df[column].median()\n",
    "        mode_column = df[column].mode().iloc[0]\n",
    "        var_column = df[column].var()\n",
    "        std_column = df[column].std()\n",
    "        max_column = df[column].max()\n",
    "        min_column = df[column].min()\n",
    "        range_column = df[column].max() - df[column].min()\n",
    "        quantiles_column = df[column].quantile([0.25, 0.5, 0.75]).to_list()\n",
    "        \n",
    "        # Append the results to the stats_list\n",
    "        stats_list.append({\n",
    "            'Column': column,\n",
    "            'Mean': mean_column,\n",
    "            'Median': median_column,\n",
    "            'Mode': mode_column,\n",
    "            'Variance': var_column,\n",
    "            'Standard Deviation': std_column,\n",
    "            'Maximal': max_column,\n",
    "            'Minimal': min_column,          \n",
    "            'Range': range_column,\n",
    "            '25th Percentile': quantiles_column[0],\n",
    "            '50th Percentile': quantiles_column[1],\n",
    "            '75th Percentile': quantiles_column[2]\n",
    "        })\n",
    "\n",
    "    # Convert the stats_list to a DataFrame for better presentation\n",
    "    stats_df = pd.DataFrame(stats_list)\n",
    "    \n",
    "    return stats_df"
   ]
  },
  {
   "cell_type": "code",
   "execution_count": 37,
   "id": "6ff44675-205c-49ec-a5e1-084ea701d036",
   "metadata": {},
   "outputs": [
    {
     "data": {
      "text/html": [
       "<div>\n",
       "<style scoped>\n",
       "    .dataframe tbody tr th:only-of-type {\n",
       "        vertical-align: middle;\n",
       "    }\n",
       "\n",
       "    .dataframe tbody tr th {\n",
       "        vertical-align: top;\n",
       "    }\n",
       "\n",
       "    .dataframe thead th {\n",
       "        text-align: right;\n",
       "    }\n",
       "</style>\n",
       "<table border=\"1\" class=\"dataframe\">\n",
       "  <thead>\n",
       "    <tr style=\"text-align: right;\">\n",
       "      <th></th>\n",
       "      <th>Column</th>\n",
       "      <th>Mean</th>\n",
       "      <th>Median</th>\n",
       "      <th>Mode</th>\n",
       "      <th>Variance</th>\n",
       "      <th>Standard Deviation</th>\n",
       "      <th>Maximal</th>\n",
       "      <th>Minimal</th>\n",
       "      <th>Range</th>\n",
       "      <th>25th Percentile</th>\n",
       "      <th>50th Percentile</th>\n",
       "      <th>75th Percentile</th>\n",
       "    </tr>\n",
       "  </thead>\n",
       "  <tbody>\n",
       "    <tr>\n",
       "      <th>0</th>\n",
       "      <td>clnt_tenure_yr</td>\n",
       "      <td>12.050560</td>\n",
       "      <td>11.0</td>\n",
       "      <td>6.00</td>\n",
       "      <td>4.724133e+01</td>\n",
       "      <td>6.873233</td>\n",
       "      <td>62.00</td>\n",
       "      <td>0.00</td>\n",
       "      <td>62.00</td>\n",
       "      <td>6.000</td>\n",
       "      <td>11.0</td>\n",
       "      <td>16.000</td>\n",
       "    </tr>\n",
       "    <tr>\n",
       "      <th>1</th>\n",
       "      <td>clnt_tenure_mnth</td>\n",
       "      <td>150.629495</td>\n",
       "      <td>136.0</td>\n",
       "      <td>58.00</td>\n",
       "      <td>6.741908e+03</td>\n",
       "      <td>82.109121</td>\n",
       "      <td>749.00</td>\n",
       "      <td>0.00</td>\n",
       "      <td>749.00</td>\n",
       "      <td>82.000</td>\n",
       "      <td>136.0</td>\n",
       "      <td>192.000</td>\n",
       "    </tr>\n",
       "    <tr>\n",
       "      <th>2</th>\n",
       "      <td>clnt_age</td>\n",
       "      <td>46.442240</td>\n",
       "      <td>47.0</td>\n",
       "      <td>58.50</td>\n",
       "      <td>2.430878e+02</td>\n",
       "      <td>15.591273</td>\n",
       "      <td>96.00</td>\n",
       "      <td>13.50</td>\n",
       "      <td>82.50</td>\n",
       "      <td>32.500</td>\n",
       "      <td>47.0</td>\n",
       "      <td>59.000</td>\n",
       "    </tr>\n",
       "    <tr>\n",
       "      <th>3</th>\n",
       "      <td>num_accts</td>\n",
       "      <td>2.255081</td>\n",
       "      <td>2.0</td>\n",
       "      <td>2.00</td>\n",
       "      <td>2.871734e-01</td>\n",
       "      <td>0.535886</td>\n",
       "      <td>8.00</td>\n",
       "      <td>0.00</td>\n",
       "      <td>8.00</td>\n",
       "      <td>2.000</td>\n",
       "      <td>2.0</td>\n",
       "      <td>2.000</td>\n",
       "    </tr>\n",
       "    <tr>\n",
       "      <th>4</th>\n",
       "      <td>bal</td>\n",
       "      <td>147445.240641</td>\n",
       "      <td>63332.9</td>\n",
       "      <td>31188.62</td>\n",
       "      <td>9.090750e+10</td>\n",
       "      <td>301508.706531</td>\n",
       "      <td>16320040.15</td>\n",
       "      <td>13789.42</td>\n",
       "      <td>16306250.73</td>\n",
       "      <td>37346.835</td>\n",
       "      <td>63332.9</td>\n",
       "      <td>137544.905</td>\n",
       "    </tr>\n",
       "    <tr>\n",
       "      <th>5</th>\n",
       "      <td>calls_6_mnth</td>\n",
       "      <td>3.381807</td>\n",
       "      <td>3.0</td>\n",
       "      <td>6.00</td>\n",
       "      <td>5.003567e+00</td>\n",
       "      <td>2.236865</td>\n",
       "      <td>7.00</td>\n",
       "      <td>0.00</td>\n",
       "      <td>7.00</td>\n",
       "      <td>1.000</td>\n",
       "      <td>3.0</td>\n",
       "      <td>6.000</td>\n",
       "    </tr>\n",
       "    <tr>\n",
       "      <th>6</th>\n",
       "      <td>logons_6_mnth</td>\n",
       "      <td>5.565636</td>\n",
       "      <td>5.0</td>\n",
       "      <td>9.00</td>\n",
       "      <td>5.542999e+00</td>\n",
       "      <td>2.354357</td>\n",
       "      <td>9.00</td>\n",
       "      <td>0.00</td>\n",
       "      <td>9.00</td>\n",
       "      <td>4.000</td>\n",
       "      <td>5.0</td>\n",
       "      <td>7.000</td>\n",
       "    </tr>\n",
       "  </tbody>\n",
       "</table>\n",
       "</div>"
      ],
      "text/plain": [
       "             Column           Mean   Median      Mode      Variance  \\\n",
       "0    clnt_tenure_yr      12.050560     11.0      6.00  4.724133e+01   \n",
       "1  clnt_tenure_mnth     150.629495    136.0     58.00  6.741908e+03   \n",
       "2          clnt_age      46.442240     47.0     58.50  2.430878e+02   \n",
       "3         num_accts       2.255081      2.0      2.00  2.871734e-01   \n",
       "4               bal  147445.240641  63332.9  31188.62  9.090750e+10   \n",
       "5      calls_6_mnth       3.381807      3.0      6.00  5.003567e+00   \n",
       "6     logons_6_mnth       5.565636      5.0      9.00  5.542999e+00   \n",
       "\n",
       "   Standard Deviation      Maximal   Minimal        Range  25th Percentile  \\\n",
       "0            6.873233        62.00      0.00        62.00            6.000   \n",
       "1           82.109121       749.00      0.00       749.00           82.000   \n",
       "2           15.591273        96.00     13.50        82.50           32.500   \n",
       "3            0.535886         8.00      0.00         8.00            2.000   \n",
       "4       301508.706531  16320040.15  13789.42  16306250.73        37346.835   \n",
       "5            2.236865         7.00      0.00         7.00            1.000   \n",
       "6            2.354357         9.00      0.00         9.00            4.000   \n",
       "\n",
       "   50th Percentile  75th Percentile  \n",
       "0             11.0           16.000  \n",
       "1            136.0          192.000  \n",
       "2             47.0           59.000  \n",
       "3              2.0            2.000  \n",
       "4          63332.9       137544.905  \n",
       "5              3.0            6.000  \n",
       "6              5.0            7.000  "
      ]
     },
     "execution_count": 37,
     "metadata": {},
     "output_type": "execute_result"
    }
   ],
   "source": [
    "calc_stat(data_demo,['clnt_tenure_yr', 'clnt_tenure_mnth', 'clnt_age', 'num_accts', 'bal', 'calls_6_mnth', 'logons_6_mnth'])"
   ]
  },
  {
   "cell_type": "markdown",
   "id": "a2c1bca4-efdd-4cb2-8b88-f834d4d4d1b9",
   "metadata": {},
   "source": []
  },
  {
   "cell_type": "code",
   "execution_count": 11,
   "id": "a0642414-712e-45c7-93cb-7744502467a2",
   "metadata": {},
   "outputs": [
    {
     "data": {
      "image/png": "[encoded data removed]",
      "text/plain": [
       "<Figure size 640x480 with 1 Axes>"
      ]
     },
     "metadata": {},
     "output_type": "display_data"
    }
   ],
   "source": [
    "#plot bal (fig avec outliners\n",
    "sns.boxplot(x = data_demo['bal']/1000, color=\"lightblue\");\n"
   ]
  },
  {
   "cell_type": "code",
   "execution_count": 12,
   "id": "cd2de066-ccf7-4b97-8d27-fdd88528e3ad",
   "metadata": {},
   "outputs": [
    {
     "data": {
      "text/html": [
       "<div>\n",
       "<style scoped>\n",
       "    .dataframe tbody tr th:only-of-type {\n",
       "        vertical-align: middle;\n",
       "    }\n",
       "\n",
       "    .dataframe tbody tr th {\n",
       "        vertical-align: top;\n",
       "    }\n",
       "\n",
       "    .dataframe thead th {\n",
       "        text-align: right;\n",
       "    }\n",
       "</style>\n",
       "<table border=\"1\" class=\"dataframe\">\n",
       "  <thead>\n",
       "    <tr style=\"text-align: right;\">\n",
       "      <th></th>\n",
       "      <th>client_id</th>\n",
       "      <th>clnt_tenure_yr</th>\n",
       "      <th>clnt_tenure_mnth</th>\n",
       "      <th>clnt_age</th>\n",
       "      <th>gendr</th>\n",
       "      <th>num_accts</th>\n",
       "      <th>bal</th>\n",
       "      <th>calls_6_mnth</th>\n",
       "      <th>logons_6_mnth</th>\n",
       "      <th>Variation</th>\n",
       "      <th>clnt_age_cat</th>\n",
       "      <th>clnt_tenure_yr_cat</th>\n",
       "      <th>num_accts_cat</th>\n",
       "    </tr>\n",
       "  </thead>\n",
       "  <tbody>\n",
       "    <tr>\n",
       "      <th>70586</th>\n",
       "      <td>2690705</td>\n",
       "      <td>15</td>\n",
       "      <td>181</td>\n",
       "      <td>53.0</td>\n",
       "      <td>F</td>\n",
       "      <td>2</td>\n",
       "      <td>24910.52</td>\n",
       "      <td>3</td>\n",
       "      <td>3</td>\n",
       "      <td>NaN</td>\n",
       "      <td>45-54</td>\n",
       "      <td>10-14</td>\n",
       "      <td>2</td>\n",
       "    </tr>\n",
       "    <tr>\n",
       "      <th>70585</th>\n",
       "      <td>6746156</td>\n",
       "      <td>8</td>\n",
       "      <td>106</td>\n",
       "      <td>32.0</td>\n",
       "      <td>F</td>\n",
       "      <td>2</td>\n",
       "      <td>19019.55</td>\n",
       "      <td>1</td>\n",
       "      <td>1</td>\n",
       "      <td>NaN</td>\n",
       "      <td>25-34</td>\n",
       "      <td>5-9</td>\n",
       "      <td>1</td>\n",
       "    </tr>\n",
       "    <tr>\n",
       "      <th>70584</th>\n",
       "      <td>4851159</td>\n",
       "      <td>6</td>\n",
       "      <td>79</td>\n",
       "      <td>60.0</td>\n",
       "      <td>U</td>\n",
       "      <td>2</td>\n",
       "      <td>74501.76</td>\n",
       "      <td>4</td>\n",
       "      <td>4</td>\n",
       "      <td>NaN</td>\n",
       "      <td>55-64</td>\n",
       "      <td>5-9</td>\n",
       "      <td>1</td>\n",
       "    </tr>\n",
       "    <tr>\n",
       "      <th>70572</th>\n",
       "      <td>424250</td>\n",
       "      <td>14</td>\n",
       "      <td>177</td>\n",
       "      <td>56.5</td>\n",
       "      <td>M</td>\n",
       "      <td>2</td>\n",
       "      <td>135143.26</td>\n",
       "      <td>4</td>\n",
       "      <td>4</td>\n",
       "      <td>NaN</td>\n",
       "      <td>55-64</td>\n",
       "      <td>10-14</td>\n",
       "      <td>2</td>\n",
       "    </tr>\n",
       "    <tr>\n",
       "      <th>70556</th>\n",
       "      <td>3987156</td>\n",
       "      <td>4</td>\n",
       "      <td>53</td>\n",
       "      <td>53.0</td>\n",
       "      <td>U</td>\n",
       "      <td>2</td>\n",
       "      <td>177851.22</td>\n",
       "      <td>7</td>\n",
       "      <td>7</td>\n",
       "      <td>NaN</td>\n",
       "      <td>45-54</td>\n",
       "      <td>0-4</td>\n",
       "      <td>1</td>\n",
       "    </tr>\n",
       "    <tr>\n",
       "      <th>...</th>\n",
       "      <td>...</td>\n",
       "      <td>...</td>\n",
       "      <td>...</td>\n",
       "      <td>...</td>\n",
       "      <td>...</td>\n",
       "      <td>...</td>\n",
       "      <td>...</td>\n",
       "      <td>...</td>\n",
       "      <td>...</td>\n",
       "      <td>...</td>\n",
       "      <td>...</td>\n",
       "      <td>...</td>\n",
       "      <td>...</td>\n",
       "    </tr>\n",
       "    <tr>\n",
       "      <th>15</th>\n",
       "      <td>2892152</td>\n",
       "      <td>4</td>\n",
       "      <td>58</td>\n",
       "      <td>36.0</td>\n",
       "      <td>U</td>\n",
       "      <td>2</td>\n",
       "      <td>46815.48</td>\n",
       "      <td>5</td>\n",
       "      <td>8</td>\n",
       "      <td>Test</td>\n",
       "      <td>35-44</td>\n",
       "      <td>0-4</td>\n",
       "      <td>1</td>\n",
       "    </tr>\n",
       "    <tr>\n",
       "      <th>13</th>\n",
       "      <td>2214073</td>\n",
       "      <td>16</td>\n",
       "      <td>193</td>\n",
       "      <td>62.5</td>\n",
       "      <td>M</td>\n",
       "      <td>3</td>\n",
       "      <td>136818.03</td>\n",
       "      <td>6</td>\n",
       "      <td>9</td>\n",
       "      <td>Test</td>\n",
       "      <td>55-64</td>\n",
       "      <td>15-19</td>\n",
       "      <td>2</td>\n",
       "    </tr>\n",
       "    <tr>\n",
       "      <th>10</th>\n",
       "      <td>8368822</td>\n",
       "      <td>8</td>\n",
       "      <td>100</td>\n",
       "      <td>34.5</td>\n",
       "      <td>U</td>\n",
       "      <td>2</td>\n",
       "      <td>75578.54</td>\n",
       "      <td>0</td>\n",
       "      <td>3</td>\n",
       "      <td>Control</td>\n",
       "      <td>25-34</td>\n",
       "      <td>5-9</td>\n",
       "      <td>1</td>\n",
       "    </tr>\n",
       "    <tr>\n",
       "      <th>4</th>\n",
       "      <td>5126305</td>\n",
       "      <td>12</td>\n",
       "      <td>145</td>\n",
       "      <td>33.0</td>\n",
       "      <td>F</td>\n",
       "      <td>2</td>\n",
       "      <td>103671.75</td>\n",
       "      <td>0</td>\n",
       "      <td>3</td>\n",
       "      <td>Control</td>\n",
       "      <td>25-34</td>\n",
       "      <td>10-14</td>\n",
       "      <td>2</td>\n",
       "    </tr>\n",
       "    <tr>\n",
       "      <th>1</th>\n",
       "      <td>2304905</td>\n",
       "      <td>7</td>\n",
       "      <td>94</td>\n",
       "      <td>58.0</td>\n",
       "      <td>U</td>\n",
       "      <td>2</td>\n",
       "      <td>110860.30</td>\n",
       "      <td>6</td>\n",
       "      <td>9</td>\n",
       "      <td>Control</td>\n",
       "      <td>55-64</td>\n",
       "      <td>5-9</td>\n",
       "      <td>1</td>\n",
       "    </tr>\n",
       "  </tbody>\n",
       "</table>\n",
       "<p>8018 rows × 13 columns</p>\n",
       "</div>"
      ],
      "text/plain": [
       "       client_id  clnt_tenure_yr  clnt_tenure_mnth  clnt_age gendr  num_accts  \\\n",
       "70586    2690705              15               181      53.0     F          2   \n",
       "70585    6746156               8               106      32.0     F          2   \n",
       "70584    4851159               6                79      60.0     U          2   \n",
       "70572     424250              14               177      56.5     M          2   \n",
       "70556    3987156               4                53      53.0     U          2   \n",
       "...          ...             ...               ...       ...   ...        ...   \n",
       "15       2892152               4                58      36.0     U          2   \n",
       "13       2214073              16               193      62.5     M          3   \n",
       "10       8368822               8               100      34.5     U          2   \n",
       "4        5126305              12               145      33.0     F          2   \n",
       "1        2304905               7                94      58.0     U          2   \n",
       "\n",
       "             bal  calls_6_mnth  logons_6_mnth Variation clnt_age_cat  \\\n",
       "70586   24910.52             3              3       NaN        45-54   \n",
       "70585   19019.55             1              1       NaN        25-34   \n",
       "70584   74501.76             4              4       NaN        55-64   \n",
       "70572  135143.26             4              4       NaN        55-64   \n",
       "70556  177851.22             7              7       NaN        45-54   \n",
       "...          ...           ...            ...       ...          ...   \n",
       "15      46815.48             5              8      Test        35-44   \n",
       "13     136818.03             6              9      Test        55-64   \n",
       "10      75578.54             0              3   Control        25-34   \n",
       "4      103671.75             0              3   Control        25-34   \n",
       "1      110860.30             6              9   Control        55-64   \n",
       "\n",
       "      clnt_tenure_yr_cat num_accts_cat  \n",
       "70586              10-14             2  \n",
       "70585                5-9             1  \n",
       "70584                5-9             1  \n",
       "70572              10-14             2  \n",
       "70556                0-4             1  \n",
       "...                  ...           ...  \n",
       "15                   0-4             1  \n",
       "13                 15-19             2  \n",
       "10                   5-9             1  \n",
       "4                  10-14             2  \n",
       "1                    5-9             1  \n",
       "\n",
       "[8018 rows x 13 columns]"
      ]
     },
     "execution_count": 12,
     "metadata": {},
     "output_type": "execute_result"
    }
   ],
   "source": [
    "#Dropping outliners for bal\n",
    "def tukeys_test_outliers(data):\n",
    "    Q1 = data.quantile(0.25)\n",
    "    Q3 = data.quantile(0.75)\n",
    "    IQR = Q3 - Q1\n",
    "\n",
    "    # Define bounds for the outliers\n",
    "    lower_bound = Q1 - 1.5 * IQR\n",
    "    upper_bound = Q3 + 1.5 * IQR\n",
    "\n",
    "    # Identify the outliers\n",
    "    outliers = data[(data < lower_bound) | (data > upper_bound)]\n",
    "\n",
    "    return outliers\n",
    "    \n",
    "data_series =data_demo ['bal']  # replace 'ColumnName' with your specific column\n",
    "outliers = tukeys_test_outliers(data_series)\n",
    "#print(outliers)\n",
    "data_demo.iloc[~outliers.index,:] # ~ = NOT"
   ]
  },
  {
   "cell_type": "code",
   "execution_count": 13,
   "id": "7af3d953-a406-4463-a5e1-6ed4f0b148e8",
   "metadata": {},
   "outputs": [
    {
     "data": {
      "image/png": "[encoded data removed]",
      "text/plain": [
       "<Figure size 640x480 with 1 Axes>"
      ]
     },
     "metadata": {},
     "output_type": "display_data"
    }
   ],
   "source": [
    "#plot bal (fig sans outliners)\n",
    "sns.boxplot(x = data_demo['bal']/1000, color=\"lightblue\");"
   ]
  },
  {
   "cell_type": "code",
   "execution_count": 60,
   "id": "aad354c5-201e-4701-939a-5ad45546f3b4",
   "metadata": {},
   "outputs": [
    {
     "name": "stderr",
     "output_type": "stream",
     "text": [
      "C:\\ProgramData\\anaconda3\\Lib\\site-packages\\seaborn\\_oldcore.py:1119: FutureWarning: use_inf_as_na option is deprecated and will be removed in a future version. Convert inf values to NaN before operating instead.\n",
      "  with pd.option_context('mode.use_inf_as_na', True):\n"
     ]
    },
    {
     "data": {
      "image/png": "[encoded data removed]",
      "text/plain": [
       "<Figure size 640x480 with 1 Axes>"
      ]
     },
     "metadata": {},
     "output_type": "display_data"
    }
   ],
   "source": [
    "# Plot a histogram of a numerical variable : age by 30 bins\n",
    "sns.histplot(data=data_demo, x='clnt_age',  bins=30,kde=True,color='red')\n",
    "\n",
    "# Add labels and title\n",
    "plt.xlabel('Age')\n",
    "plt.ylabel('Count')\n",
    "plt.title('Distribution of Age')\n",
    "\n",
    "# Show the plot\n",
    "plt.show()"
   ]
  },
  {
   "cell_type": "code",
   "execution_count": 64,
   "id": "3cceea51-a0cc-4b6c-a6f0-c42a8b506c13",
   "metadata": {},
   "outputs": [
    {
     "name": "stderr",
     "output_type": "stream",
     "text": [
      "C:\\ProgramData\\anaconda3\\Lib\\site-packages\\seaborn\\_oldcore.py:1119: FutureWarning: use_inf_as_na option is deprecated and will be removed in a future version. Convert inf values to NaN before operating instead.\n",
      "  with pd.option_context('mode.use_inf_as_na', True):\n"
     ]
    },
    {
     "data": {
      "image/png": "[encoded data removed]",
      "text/plain": [
       "<Figure size 640x480 with 1 Axes>"
      ]
     },
     "metadata": {},
     "output_type": "display_data"
    }
   ],
   "source": [
    "# Plot a histogram of a numerical variable : age by logical group\n",
    "sns.histplot(data=data_demo, x='clnt_age',  bins=[0, 18, 25, 35, 45, 55, 65, 100],kde=True,color='red')\n",
    "\n",
    "# Add labels and title\n",
    "plt.xlabel('Age')\n",
    "plt.ylabel('Count')\n",
    "plt.title('Distribution of Age')\n",
    "\n",
    "# Show the plot\n",
    "plt.show()"
   ]
  },
  {
   "cell_type": "code",
   "execution_count": 16,
   "id": "ccc98e2b-3970-4512-9b35-cf457533d853",
   "metadata": {},
   "outputs": [
    {
     "name": "stderr",
     "output_type": "stream",
     "text": [
      "C:\\ProgramData\\anaconda3\\Lib\\site-packages\\seaborn\\_oldcore.py:1119: FutureWarning: use_inf_as_na option is deprecated and will be removed in a future version. Convert inf values to NaN before operating instead.\n",
      "  with pd.option_context('mode.use_inf_as_na', True):\n"
     ]
    },
    {
     "data": {
      "image/png": "[encoded data removed]",
      "text/plain": [
       "<Figure size 640x480 with 1 Axes>"
      ]
     },
     "metadata": {},
     "output_type": "display_data"
    }
   ],
   "source": [
    "# Plot a histogram of clnt_tenure__yr\n",
    "sns.histplot(data=data_demo, x='clnt_tenure_yr', bins=30,kde=True)\n",
    "\n",
    "# Add labels and title\n",
    "plt.xlabel('clnt_tenure__yr')\n",
    "plt.ylabel('Count')\n",
    "plt.title('Distribution of Custumer Tenure')\n",
    "\n",
    "# Show the plot\n",
    "plt.show()"
   ]
  },
  {
   "cell_type": "code",
   "execution_count": 17,
   "id": "683666e1-fbb0-455e-a87a-6c922dc8ebd8",
   "metadata": {},
   "outputs": [
    {
     "name": "stderr",
     "output_type": "stream",
     "text": [
      "C:\\ProgramData\\anaconda3\\Lib\\site-packages\\seaborn\\_oldcore.py:1119: FutureWarning: use_inf_as_na option is deprecated and will be removed in a future version. Convert inf values to NaN before operating instead.\n",
      "  with pd.option_context('mode.use_inf_as_na', True):\n"
     ]
    },
    {
     "data": {
      "image/png": "[encoded data removed]",
      "text/plain": [
       "<Figure size 640x480 with 1 Axes>"
      ]
     },
     "metadata": {},
     "output_type": "display_data"
    }
   ],
   "source": [
    "# Plot a histogram of num_accts\n",
    "sns.histplot(data=data_demo, x='num_accts')\n",
    "\n",
    "# Add labels and title\n",
    "plt.xlabel('num_accts')\n",
    "plt.ylabel('Count')\n",
    "plt.title('Distribution of the Number of accounts')\n",
    "\n",
    "# Show the plot\n",
    "plt.show()"
   ]
  },
  {
   "cell_type": "code",
   "execution_count": 20,
   "id": "3d2ad1c6-9e1a-4081-a565-d2f02a1be31b",
   "metadata": {},
   "outputs": [
    {
     "name": "stderr",
     "output_type": "stream",
     "text": [
      "C:\\ProgramData\\anaconda3\\Lib\\site-packages\\seaborn\\_oldcore.py:1119: FutureWarning: use_inf_as_na option is deprecated and will be removed in a future version. Convert inf values to NaN before operating instead.\n",
      "  with pd.option_context('mode.use_inf_as_na', True):\n"
     ]
    },
    {
     "data": {
      "image/png": "[encoded data removed]",
      "text/plain": [
       "<Figure size 640x480 with 1 Axes>"
      ]
     },
     "metadata": {},
     "output_type": "display_data"
    }
   ],
   "source": [
    "sns.histplot(data=data_demo, x=(data_demo['bal']/1000),bins=1000)\n",
    "\n",
    "# Add labels and title\n",
    "plt.xlabel('balance')\n",
    "plt.ylabel('Count')\n",
    "plt.title('Total balance per customers')\n",
    "\n",
    "# Show the plot\n",
    "plt.show()"
   ]
  },
  {
   "cell_type": "code",
   "execution_count": 17,
   "id": "5e4c3874-dd4a-44b4-b82f-49ff51d79a24",
   "metadata": {},
   "outputs": [
    {
     "name": "stderr",
     "output_type": "stream",
     "text": [
      "C:\\ProgramData\\anaconda3\\Lib\\site-packages\\seaborn\\_oldcore.py:1119: FutureWarning: use_inf_as_na option is deprecated and will be removed in a future version. Convert inf values to NaN before operating instead.\n",
      "  with pd.option_context('mode.use_inf_as_na', True):\n"
     ]
    },
    {
     "data": {
      "image/png": "[encoded data removed]",
      "text/plain": [
       "<Figure size 640x480 with 1 Axes>"
      ]
     },
     "metadata": {},
     "output_type": "display_data"
    }
   ],
   "source": [
    "# Define the bin edges\n",
    "#max_value = data_demo['bal'].max()  # Find the maximum value in the column\n",
    "#bins = np.linspace(data_demo['bal'].min(), 1.375461e+05, 99)  # 29 bins up to the specified value\n",
    "#bins = np.append(bins, max_value)  # Append the maximum value to create the 30th bin\n",
    "\n",
    "# Create the histogram plot\n",
    "#sns.histplot(data=data_demo, x='bal', bins=bins)\n",
    "\n",
    "# Display the plot\n",
    "#plt.show()"
   ]
  },
  {
   "cell_type": "code",
   "execution_count": 18,
   "id": "23646a76-61b8-4e87-8672-f64cf29f184a",
   "metadata": {
    "jp-MarkdownHeadingCollapsed": true
   },
   "outputs": [
    {
     "name": "stderr",
     "output_type": "stream",
     "text": [
      "C:\\ProgramData\\anaconda3\\Lib\\site-packages\\seaborn\\categorical.py:641: FutureWarning: The default of observed=False is deprecated and will be changed to True in a future version of pandas. Pass observed=False to retain current behavior or observed=True to adopt the future default and silence this warning.\n",
      "  grouped_vals = vals.groupby(grouper)\n"
     ]
    },
    {
     "data": {
      "image/png": "[encoded data removed]",
      "text/plain": [
       "<Figure size 640x480 with 1 Axes>"
      ]
     },
     "metadata": {},
     "output_type": "display_data"
    }
   ],
   "source": [
    "#plot val  by age\n",
    "sns.barplot(data=data_demo, x='clnt_age_cat', y='bal', palette=\"coolwarm\", hue='clnt_age_cat');\n",
    "plt.legend(loc='upper left', bbox_to_anchor=(1, 1))\n",
    "plt.show()"
   ]
  },
  {
   "cell_type": "code",
   "execution_count": 22,
   "id": "218a21d6-585b-4ce7-b889-d88ca554518a",
   "metadata": {},
   "outputs": [
    {
     "ename": "AttributeError",
     "evalue": "'numpy.int64' object has no attribute 'startswith'",
     "output_type": "error",
     "traceback": [
      "\u001b[1;31m---------------------------------------------------------------------------\u001b[0m",
      "\u001b[1;31mAttributeError\u001b[0m                            Traceback (most recent call last)",
      "Cell \u001b[1;32mIn[22], line 2\u001b[0m\n\u001b[0;32m      1\u001b[0m \u001b[38;5;66;03m#plot number of accounts vs val\u001b[39;00m\n\u001b[1;32m----> 2\u001b[0m sns\u001b[38;5;241m.\u001b[39mbarplot(data\u001b[38;5;241m=\u001b[39mdata_demo, x\u001b[38;5;241m=\u001b[39m\u001b[38;5;124m'\u001b[39m\u001b[38;5;124mnum_accts\u001b[39m\u001b[38;5;124m'\u001b[39m, y\u001b[38;5;241m=\u001b[39m\u001b[38;5;124m'\u001b[39m\u001b[38;5;124mbal\u001b[39m\u001b[38;5;124m'\u001b[39m, palette\u001b[38;5;241m=\u001b[39m\u001b[38;5;124m\"\u001b[39m\u001b[38;5;124mcoolwarm\u001b[39m\u001b[38;5;124m\"\u001b[39m, hue\u001b[38;5;241m=\u001b[39m\u001b[38;5;124m'\u001b[39m\u001b[38;5;124mnum_accts\u001b[39m\u001b[38;5;124m'\u001b[39m);\n\u001b[0;32m      3\u001b[0m plt\u001b[38;5;241m.\u001b[39mlegend(loc\u001b[38;5;241m=\u001b[39m\u001b[38;5;124m'\u001b[39m\u001b[38;5;124mupper left\u001b[39m\u001b[38;5;124m'\u001b[39m, bbox_to_anchor\u001b[38;5;241m=\u001b[39m(\u001b[38;5;241m1\u001b[39m, \u001b[38;5;241m1\u001b[39m))\n\u001b[0;32m      4\u001b[0m plt\u001b[38;5;241m.\u001b[39mshow()\n",
      "File \u001b[1;32mC:\\ProgramData\\anaconda3\\Lib\\site-packages\\seaborn\\categorical.py:2763\u001b[0m, in \u001b[0;36mbarplot\u001b[1;34m(data, x, y, hue, order, hue_order, estimator, errorbar, n_boot, units, seed, orient, color, palette, saturation, width, errcolor, errwidth, capsize, dodge, ci, ax, **kwargs)\u001b[0m\n\u001b[0;32m   2760\u001b[0m \u001b[38;5;28;01mif\u001b[39;00m ax \u001b[38;5;129;01mis\u001b[39;00m \u001b[38;5;28;01mNone\u001b[39;00m:\n\u001b[0;32m   2761\u001b[0m     ax \u001b[38;5;241m=\u001b[39m plt\u001b[38;5;241m.\u001b[39mgca()\n\u001b[1;32m-> 2763\u001b[0m plotter\u001b[38;5;241m.\u001b[39mplot(ax, kwargs)\n\u001b[0;32m   2764\u001b[0m \u001b[38;5;28;01mreturn\u001b[39;00m ax\n",
      "File \u001b[1;32mC:\\ProgramData\\anaconda3\\Lib\\site-packages\\seaborn\\categorical.py:1587\u001b[0m, in \u001b[0;36m_BarPlotter.plot\u001b[1;34m(self, ax, bar_kws)\u001b[0m\n\u001b[0;32m   1585\u001b[0m \u001b[38;5;250m\u001b[39m\u001b[38;5;124;03m\"\"\"Make the plot.\"\"\"\u001b[39;00m\n\u001b[0;32m   1586\u001b[0m \u001b[38;5;28mself\u001b[39m\u001b[38;5;241m.\u001b[39mdraw_bars(ax, bar_kws)\n\u001b[1;32m-> 1587\u001b[0m \u001b[38;5;28mself\u001b[39m\u001b[38;5;241m.\u001b[39mannotate_axes(ax)\n\u001b[0;32m   1588\u001b[0m \u001b[38;5;28;01mif\u001b[39;00m \u001b[38;5;28mself\u001b[39m\u001b[38;5;241m.\u001b[39morient \u001b[38;5;241m==\u001b[39m \u001b[38;5;124m\"\u001b[39m\u001b[38;5;124mh\u001b[39m\u001b[38;5;124m\"\u001b[39m:\n\u001b[0;32m   1589\u001b[0m     ax\u001b[38;5;241m.\u001b[39minvert_yaxis()\n",
      "File \u001b[1;32mC:\\ProgramData\\anaconda3\\Lib\\site-packages\\seaborn\\categorical.py:767\u001b[0m, in \u001b[0;36m_CategoricalPlotter.annotate_axes\u001b[1;34m(self, ax)\u001b[0m\n\u001b[0;32m    764\u001b[0m     ax\u001b[38;5;241m.\u001b[39mset_ylim(\u001b[38;5;241m-\u001b[39m\u001b[38;5;241m.5\u001b[39m, \u001b[38;5;28mlen\u001b[39m(\u001b[38;5;28mself\u001b[39m\u001b[38;5;241m.\u001b[39mplot_data) \u001b[38;5;241m-\u001b[39m \u001b[38;5;241m.5\u001b[39m, auto\u001b[38;5;241m=\u001b[39m\u001b[38;5;28;01mNone\u001b[39;00m)\n\u001b[0;32m    766\u001b[0m \u001b[38;5;28;01mif\u001b[39;00m \u001b[38;5;28mself\u001b[39m\u001b[38;5;241m.\u001b[39mhue_names \u001b[38;5;129;01mis\u001b[39;00m \u001b[38;5;129;01mnot\u001b[39;00m \u001b[38;5;28;01mNone\u001b[39;00m:\n\u001b[1;32m--> 767\u001b[0m     ax\u001b[38;5;241m.\u001b[39mlegend(loc\u001b[38;5;241m=\u001b[39m\u001b[38;5;124m\"\u001b[39m\u001b[38;5;124mbest\u001b[39m\u001b[38;5;124m\"\u001b[39m, title\u001b[38;5;241m=\u001b[39m\u001b[38;5;28mself\u001b[39m\u001b[38;5;241m.\u001b[39mhue_title)\n",
      "File \u001b[1;32mC:\\ProgramData\\anaconda3\\Lib\\site-packages\\matplotlib\\axes\\_axes.py:322\u001b[0m, in \u001b[0;36mAxes.legend\u001b[1;34m(self, *args, **kwargs)\u001b[0m\n\u001b[0;32m    204\u001b[0m \u001b[38;5;129m@_docstring\u001b[39m\u001b[38;5;241m.\u001b[39mdedent_interpd\n\u001b[0;32m    205\u001b[0m \u001b[38;5;28;01mdef\u001b[39;00m \u001b[38;5;21mlegend\u001b[39m(\u001b[38;5;28mself\u001b[39m, \u001b[38;5;241m*\u001b[39margs, \u001b[38;5;241m*\u001b[39m\u001b[38;5;241m*\u001b[39mkwargs):\n\u001b[0;32m    206\u001b[0m \u001b[38;5;250m    \u001b[39m\u001b[38;5;124;03m\"\"\"\u001b[39;00m\n\u001b[0;32m    207\u001b[0m \u001b[38;5;124;03m    Place a legend on the Axes.\u001b[39;00m\n\u001b[0;32m    208\u001b[0m \n\u001b[1;32m   (...)\u001b[0m\n\u001b[0;32m    320\u001b[0m \u001b[38;5;124;03m    .. plot:: gallery/text_labels_and_annotations/legend.py\u001b[39;00m\n\u001b[0;32m    321\u001b[0m \u001b[38;5;124;03m    \"\"\"\u001b[39;00m\n\u001b[1;32m--> 322\u001b[0m     handles, labels, kwargs \u001b[38;5;241m=\u001b[39m mlegend\u001b[38;5;241m.\u001b[39m_parse_legend_args([\u001b[38;5;28mself\u001b[39m], \u001b[38;5;241m*\u001b[39margs, \u001b[38;5;241m*\u001b[39m\u001b[38;5;241m*\u001b[39mkwargs)\n\u001b[0;32m    323\u001b[0m     \u001b[38;5;28mself\u001b[39m\u001b[38;5;241m.\u001b[39mlegend_ \u001b[38;5;241m=\u001b[39m mlegend\u001b[38;5;241m.\u001b[39mLegend(\u001b[38;5;28mself\u001b[39m, handles, labels, \u001b[38;5;241m*\u001b[39m\u001b[38;5;241m*\u001b[39mkwargs)\n\u001b[0;32m    324\u001b[0m     \u001b[38;5;28mself\u001b[39m\u001b[38;5;241m.\u001b[39mlegend_\u001b[38;5;241m.\u001b[39m_remove_method \u001b[38;5;241m=\u001b[39m \u001b[38;5;28mself\u001b[39m\u001b[38;5;241m.\u001b[39m_remove_legend\n",
      "File \u001b[1;32mC:\\ProgramData\\anaconda3\\Lib\\site-packages\\matplotlib\\legend.py:1361\u001b[0m, in \u001b[0;36m_parse_legend_args\u001b[1;34m(axs, handles, labels, *args, **kwargs)\u001b[0m\n\u001b[0;32m   1357\u001b[0m     handles \u001b[38;5;241m=\u001b[39m [handle \u001b[38;5;28;01mfor\u001b[39;00m handle, label\n\u001b[0;32m   1358\u001b[0m                \u001b[38;5;129;01min\u001b[39;00m \u001b[38;5;28mzip\u001b[39m(_get_legend_handles(axs, handlers), labels)]\n\u001b[0;32m   1360\u001b[0m \u001b[38;5;28;01melif\u001b[39;00m \u001b[38;5;28mlen\u001b[39m(args) \u001b[38;5;241m==\u001b[39m \u001b[38;5;241m0\u001b[39m:  \u001b[38;5;66;03m# 0 args: automatically detect labels and handles.\u001b[39;00m\n\u001b[1;32m-> 1361\u001b[0m     handles, labels \u001b[38;5;241m=\u001b[39m _get_legend_handles_labels(axs, handlers)\n\u001b[0;32m   1362\u001b[0m     \u001b[38;5;28;01mif\u001b[39;00m \u001b[38;5;129;01mnot\u001b[39;00m handles:\n\u001b[0;32m   1363\u001b[0m         log\u001b[38;5;241m.\u001b[39mwarning(\n\u001b[0;32m   1364\u001b[0m             \u001b[38;5;124m\"\u001b[39m\u001b[38;5;124mNo artists with labels found to put in legend.  Note that \u001b[39m\u001b[38;5;124m\"\u001b[39m\n\u001b[0;32m   1365\u001b[0m             \u001b[38;5;124m\"\u001b[39m\u001b[38;5;124martists whose label start with an underscore are ignored \u001b[39m\u001b[38;5;124m\"\u001b[39m\n\u001b[0;32m   1366\u001b[0m             \u001b[38;5;124m\"\u001b[39m\u001b[38;5;124mwhen legend() is called with no argument.\u001b[39m\u001b[38;5;124m\"\u001b[39m)\n",
      "File \u001b[1;32mC:\\ProgramData\\anaconda3\\Lib\\site-packages\\matplotlib\\legend.py:1291\u001b[0m, in \u001b[0;36m_get_legend_handles_labels\u001b[1;34m(axs, legend_handler_map)\u001b[0m\n\u001b[0;32m   1289\u001b[0m \u001b[38;5;28;01mfor\u001b[39;00m handle \u001b[38;5;129;01min\u001b[39;00m _get_legend_handles(axs, legend_handler_map):\n\u001b[0;32m   1290\u001b[0m     label \u001b[38;5;241m=\u001b[39m handle\u001b[38;5;241m.\u001b[39mget_label()\n\u001b[1;32m-> 1291\u001b[0m     \u001b[38;5;28;01mif\u001b[39;00m label \u001b[38;5;129;01mand\u001b[39;00m \u001b[38;5;129;01mnot\u001b[39;00m label\u001b[38;5;241m.\u001b[39mstartswith(\u001b[38;5;124m'\u001b[39m\u001b[38;5;124m_\u001b[39m\u001b[38;5;124m'\u001b[39m):\n\u001b[0;32m   1292\u001b[0m         handles\u001b[38;5;241m.\u001b[39mappend(handle)\n\u001b[0;32m   1293\u001b[0m         labels\u001b[38;5;241m.\u001b[39mappend(label)\n",
      "\u001b[1;31mAttributeError\u001b[0m: 'numpy.int64' object has no attribute 'startswith'"
     ]
    },
    {
     "data": {
      "image/png": "[encoded data removed]",
      "text/plain": [
       "<Figure size 640x480 with 1 Axes>"
      ]
     },
     "metadata": {},
     "output_type": "display_data"
    }
   ],
   "source": [
    "#plot number of accounts vs val\n",
    "sns.barplot(data=data_demo, x='num_accts', y='bal', palette=\"coolwarm\", hue='num_accts');\n",
    "plt.legend(loc='upper left', bbox_to_anchor=(1, 1))\n",
    "plt.show()"
   ]
  },
  {
   "cell_type": "code",
   "execution_count": 49,
   "id": "ac41b259",
   "metadata": {},
   "outputs": [
    {
     "data": {
      "image/png": "[encoded data removed]",
      "text/plain": [
       "<Figure size 640x480 with 1 Axes>"
      ]
     },
     "metadata": {},
     "output_type": "display_data"
    }
   ],
   "source": [
    "#plot of nb call and nb connection vs age/bal calls_6_mnth\tlogons_6_mnth\n",
    "sns.barplot(data=data_demo, x='logons_6_mnth', y='clnt_age', palette=\"coolwarm\", hue='clnt_age_cat');\n",
    "plt.legend(loc='upper left', bbox_to_anchor=(1, 1))\n",
    "plt.show()"
   ]
  },
  {
   "cell_type": "code",
   "execution_count": 66,
   "id": "cdb21445-a4a3-4c46-88ba-58c5051513f8",
   "metadata": {},
   "outputs": [
    {
     "name": "stderr",
     "output_type": "stream",
     "text": [
      "C:\\Users\\tania\\AppData\\Local\\Temp\\ipykernel_18032\\121239751.py:2: UserWarning: Ignoring `palette` because no `hue` variable has been assigned.\n",
      "  sns.scatterplot(data=data_demo, x='logons_6_mnth', y='clnt_age', palette=\"red\",);\n",
      "No artists with labels found to put in legend.  Note that artists whose label start with an underscore are ignored when legend() is called with no argument.\n"
     ]
    },
    {
     "data": {
      "image/png": "[encoded data removed]",
      "text/plain": [
       "<Figure size 640x480 with 1 Axes>"
      ]
     },
     "metadata": {},
     "output_type": "display_data"
    }
   ],
   "source": [
    "#plot of nb call and nb connection vs age/bal calls_6_mnth\tlogons_6_mnth\n",
    "sns.scatterplot(data=data_demo, x='logons_6_mnth', y='clnt_age', palette=\"red\",);\n",
    "plt.legend(loc='upper left', bbox_to_anchor=(1, 1))\n",
    "plt.show()"
   ]
  },
  {
   "cell_type": "code",
   "execution_count": 67,
   "id": "f13b0c11-56f3-4358-ba87-f1b4de4644ec",
   "metadata": {},
   "outputs": [
    {
     "name": "stderr",
     "output_type": "stream",
     "text": [
      "C:\\Users\\tania\\AppData\\Local\\Temp\\ipykernel_18032\\2354737053.py:2: UserWarning: Ignoring `palette` because no `hue` variable has been assigned.\n",
      "  sns.scatterplot(data=data_demo, x='logons_6_mnth', y='bal', palette=\"coolwarm\",color=\"red\");\n",
      "No artists with labels found to put in legend.  Note that artists whose label start with an underscore are ignored when legend() is called with no argument.\n"
     ]
    },
    {
     "data": {
      "image/png": "[encoded data removed]",
      "text/plain": [
       "<Figure size 640x480 with 1 Axes>"
      ]
     },
     "metadata": {},
     "output_type": "display_data"
    }
   ],
   "source": [
    "#plot of nb call and nb connection vs age/bal calls_6_mnth\tlogons_6_mnth\n",
    "sns.scatterplot(data=data_demo, x='logons_6_mnth', y='bal', palette=\"coolwarm\",color=\"red\");\n",
    "plt.legend(loc='upper left', bbox_to_anchor=(1, 1))\n",
    "plt.show()"
   ]
  },
  {
   "cell_type": "code",
   "execution_count": 36,
   "id": "8b2b31ef-ee58-4a51-8e65-25044c4abc86",
   "metadata": {},
   "outputs": [],
   "source": [
    "#Function to perform chi2tests between columns\n",
    "from scipy.stats import chi2_contingency \n",
    "def chi2_test(df, col1, col2):\n",
    "    # Create a contingency table between the two specified columns\n",
    "    contingency_table = pd.crosstab(df[col1], df[col2])\n",
    "    \n",
    "    # Perform the chi-squared test\n",
    "    chi2, p, dof, expected = chi2_contingency(contingency_table)\n",
    "    \n",
    "    # Create a DataFrame to store the results\n",
    "    results_df = pd.DataFrame({\n",
    "        'column1': [col1],\n",
    "        'column2': [col2],\n",
    "        'p-value': [p],\n",
    "        'statistic': [chi2],\n",
    "        'dof': [dof]\n",
    "    })"
   ]
  },
  {
   "cell_type": "code",
   "execution_count": 23,
   "id": "58d60060-c69b-49bf-b2b1-85c44a3ec82f",
   "metadata": {},
   "outputs": [],
   "source": [
    "#Function pour faire des test chi2 entre groupes\n",
    "from scipy.stats import chi2_contingency  \n",
    "  \n",
    "def Qui2test(df, columns):  \n",
    "   results = []  \n",
    "   for col in columns:  \n",
    "      contingency_table = pd.crosstab(df[col], df['Variation'])  \n",
    "      chi2, p, dof, expected = chi2_contingency(contingency_table)  \n",
    "      results.append({'column': col, 'p-value': p, 'statistic': chi2})  \n",
    "   return results"
   ]
  },
  {
   "cell_type": "code",
   "execution_count": null,
   "id": "3e955f4b-3cf1-4728-847f-a26ad1ef628b",
   "metadata": {},
   "outputs": [],
   "source": [
    "Tests=Qui2test(data_cleaned_total,category)\n",
    "pd.DataFrame(Tests)"
   ]
  },
  {
   "cell_type": "code",
   "execution_count": null,
   "id": "99a77f59-b6a6-4542-bf9a-84f0394f945a",
   "metadata": {},
   "outputs": [],
   "source": [
    "#créer meme fonction pour t-test"
   ]
  },
  {
   "cell_type": "code",
   "execution_count": null,
   "id": "911cb3fe-f53e-43ad-90bf-093ef19fe036",
   "metadata": {},
   "outputs": [],
   "source": [
    "# List of columns to plot (wrong df name, copy passte from previous notebook)\n",
    "columns_to_plot = ['clnt_tenure_yr', 'clnt_tenure_mnth', 'clnt_age', 'gendr', 'num_accts', 'bal', 'calls_6_mnth', 'logons_6_mnth']\n",
    "\n",
    "# Plot histograms for numerical columns and a count plot for 'gendr' keeping unknown\n",
    "for column in columns_to_plot:\n",
    "    plt.figure(figsize=(10, 6))\n",
    "    if column == 'gendr':\n",
    "        sns.countplot(x=clean_df_final_demo[column])\n",
    "        plt.title(f'Count Plot of {column}')\n",
    "    else:\n",
    "        sns.histplot(clean_df_final_demo[column], kde=True)\n",
    "        plt.title(f'Histogram of {column}')\n",
    "    plt.xlabel(column)\n",
    "    plt.ylabel('Frequency')\n",
    "    plt.show()"
   ]
  },
  {
   "cell_type": "markdown",
   "id": "82128824-5a57-4146-9d9b-fa64064cc9b8",
   "metadata": {},
   "source": [
    "CLT & Hypotheisis testing"
   ]
  },
  {
   "cell_type": "code",
   "execution_count": 29,
   "id": "0ceac36f-ebd8-4682-8e22-4bbb0355b71d",
   "metadata": {},
   "outputs": [],
   "source": [
    "#sample creation\n",
    "path_demo_mdofif=r\"C:\\Users\\tania\\Documents\\FormationDataIronhack\\Cours_semaine5\\Projectweek5\\Vanguard\\data\\clean\\data_demo_modify.csv\"\n",
    "# Creating a filtered dataframe for value \"Test\" in column \"Variation\"\n",
    "df_test =data_demo[data_demo['Variation'] == 'Test'].copy()\n",
    "path_df_test=r\"C:\\Users\\tania\\Documents\\FormationDataIronhack\\Cours_semaine5\\Projectweek5\\Vanguard\\data\\clean\\df_test.csv\"\n",
    "# Creating a filtered dataframe for value \"Control\" in column \"Variation\"\n",
    "df_control = data_demo[data_demo['Variation'] == 'Control'].copy()\n",
    "path_df_control=r\"C:\\Users\\tania\\Documents\\FormationDataIronhack\\Cours_semaine5\\Projectweek5\\Vanguard\\data\\clean\\df_control.csv\"\n",
    "data_demo_modify.to_csv(path_demo_mdofif, index=False)\n",
    "df_test.to_csv(path_df_test, index=False)\n",
    "df_control.to_csv(path_df_control, index=False)"
   ]
  },
  {
   "cell_type": "code",
   "execution_count": 63,
   "id": "5d941503-11da-4ad4-a46c-d985ba2d9da8",
   "metadata": {},
   "outputs": [
    {
     "data": {
      "text/plain": [
       "((23526, 13), (26961, 13))"
      ]
     },
     "execution_count": 63,
     "metadata": {},
     "output_type": "execute_result"
    }
   ],
   "source": [
    "df_control.shape, df_test.shape"
   ]
  },
  {
   "cell_type": "code",
   "execution_count": 50,
   "id": "0ea6c297-6f68-4031-9425-1b9817dd6863",
   "metadata": {},
   "outputs": [
    {
     "data": {
      "text/plain": [
       "Index(['client_id', 'clnt_tenure_yr', 'clnt_tenure_mnth', 'clnt_age', 'gendr',\n",
       "       'num_accts', 'bal', 'calls_6_mnth', 'logons_6_mnth', 'Variation',\n",
       "       'clnt_age_cat', 'clnt_tenure_yr_cat', 'num_accts_cat'],\n",
       "      dtype='object')"
      ]
     },
     "execution_count": 50,
     "metadata": {},
     "output_type": "execute_result"
    }
   ],
   "source": [
    "df_control.columns"
   ]
  },
  {
   "cell_type": "code",
   "execution_count": 39,
   "id": "c5b5bc31-9887-4526-bd1b-9523dd531e41",
   "metadata": {},
   "outputs": [],
   "source": [
    "#functions to compare samples to the population\n",
    "from scipy import stats\n",
    "def ttest_1samp(population_df, sample_df, column_name):  \n",
    "   \"\"\"  \n",
    "   Perform a one-sample t-test to compare the mean of a sample to the mean of a population.  \n",
    "  \n",
    "   Parameters:  \n",
    "   population_df (pandas.DataFrame): The population dataframe  \n",
    "   sample_df (pandas.DataFrame): The sample dataframe  \n",
    "   column_name (str): The name of the column to perform the t-test on  \n",
    "  \n",
    "   Returns:  \n",
    "   t_stat (float): The t-statistic  \n",
    "   p_val (float): The p-value  \n",
    "   \"\"\"  \n",
    "   # Extract the column of interest from the population and sample dataframes  \n",
    "   population_values = population_df[column_name]  \n",
    "   sample_values = sample_df[column_name]  \n",
    "  \n",
    "   # Perform the one-sample t-test  \n",
    "   t_stat, p_val = stats.ttest_1samp(sample_values, population_values.mean())  \n",
    "  \n",
    "   return t_stat, p_val"
   ]
  },
  {
   "cell_type": "code",
   "execution_count": 40,
   "id": "191cf245-947d-4fd0-8793-b1fcd63c0222",
   "metadata": {},
   "outputs": [
    {
     "data": {
      "text/plain": [
       "(10.436944208471173, 1.9109723700909505e-25)"
      ]
     },
     "execution_count": 40,
     "metadata": {},
     "output_type": "execute_result"
    }
   ],
   "source": [
    "ttest_1samp(data_demo, df_control,'clnt_age')"
   ]
  },
  {
   "cell_type": "code",
   "execution_count": 41,
   "id": "94040f40-b614-4386-ba01-118f5a0a8839",
   "metadata": {},
   "outputs": [
    {
     "data": {
      "text/plain": [
       "(7.637954813630302, 2.2800957270135073e-14)"
      ]
     },
     "execution_count": 41,
     "metadata": {},
     "output_type": "execute_result"
    }
   ],
   "source": [
    "ttest_1samp(data_demo, df_test,'clnt_age')"
   ]
  },
  {
   "cell_type": "code",
   "execution_count": 48,
   "id": "fe99213c-de3c-475f-9f53-e211bdf38542",
   "metadata": {},
   "outputs": [],
   "source": [
    "def ttest_1samp_less(population_df, sample_df, column_name):  \n",
    " \n",
    "   # Extract the column of interest from the population and sample dataframes  \n",
    "   population_values = population_df[column_name]  \n",
    "   sample_values = sample_df[column_name]  \n",
    "  \n",
    "   # Perform the one-sample t-test  \n",
    "   t_stat, p_val = stats.ttest_1samp(sample_values, population_values.mean(),alternative='less')  \n",
    "  \n",
    "   return t_stat, p_val"
   ]
  },
  {
   "cell_type": "code",
   "execution_count": 44,
   "id": "7e859889-76be-4703-8ff0-bf72db7af4f4",
   "metadata": {},
   "outputs": [
    {
     "data": {
      "text/plain": [
       "(7.637954813630302, 0.9999999999999886)"
      ]
     },
     "execution_count": 44,
     "metadata": {},
     "output_type": "execute_result"
    }
   ],
   "source": [
    "ttest_1samp_less(data_demo, df_test,'clnt_age')"
   ]
  },
  {
   "cell_type": "code",
   "execution_count": 45,
   "id": "35a3d97b-9c62-403b-8885-ec9b592cd79e",
   "metadata": {},
   "outputs": [
    {
     "data": {
      "text/plain": [
       "(-1.6817202368976092, 0.04631734184935687)"
      ]
     },
     "execution_count": 45,
     "metadata": {},
     "output_type": "execute_result"
    }
   ],
   "source": [
    "ttest_1samp_less(data_demo, df_test,'clnt_tenure_yr')"
   ]
  },
  {
   "cell_type": "code",
   "execution_count": 53,
   "id": "f8b06bac",
   "metadata": {},
   "outputs": [
    {
     "name": "stdout",
     "output_type": "stream",
     "text": [
      "           column    t_stat     p_val\n",
      "0  clnt_tenure_yr  1.714887  0.086372\n",
      "1        clnt_age  2.416146  0.015689\n",
      "2       num_accts  2.102157  0.035544\n",
      "3             bal  0.441342  0.658967\n",
      "4    calls_6_mnth  3.444647  0.000572\n",
      "5   logons_6_mnth  3.317964  0.000907\n"
     ]
    }
   ],
   "source": [
    "#compa des 2 groupes\n",
    "from scipy.stats import ttest_ind\n",
    "# Convert columns to numeric and handle errors\n",
    "for column in columns:\n",
    "    df_control[column] = pd.to_numeric(df_control[column], errors='coerce')\n",
    "    df_test[column] = pd.to_numeric(df_test[column], errors='coerce')\n",
    "\n",
    "# Drop rows with NaN values in specified columns\n",
    "df_control = df_control.dropna(subset=columns)\n",
    "df_test = df_test.dropna(subset=columns)\n",
    "\n",
    "# Create an empty list to store the results\n",
    "results = []  \n",
    "\n",
    "# Loop through the columns and apply the t-test\n",
    "for column in columns:  \n",
    "    t_stat, p_val = ttest_ind(df_control[column], df_test[column])  \n",
    "    results.append({'column': column, 't_stat': t_stat, 'p_val': p_val})  \n",
    "\n",
    "# Convert the results to a DataFrame\n",
    "results_df = pd.DataFrame(results)  \n",
    "\n",
    "# Print the results\n",
    "print(results_df)  "
   ]
  },
  {
   "cell_type": "code",
   "execution_count": 54,
   "id": "dfd780e2-7c1c-4483-b933-cba1302bd16b",
   "metadata": {},
   "outputs": [
    {
     "name": "stdout",
     "output_type": "stream",
     "text": [
      "           column    t_stat     p_val\n",
      "0  clnt_tenure_yr  1.714887  0.956814\n",
      "1        clnt_age  2.416146  0.992155\n",
      "2       num_accts  2.102157  0.982228\n",
      "3             bal  0.441342  0.670516\n",
      "4    calls_6_mnth  3.444647  0.999714\n",
      "5   logons_6_mnth  3.317964  0.999546\n"
     ]
    }
   ],
   "source": [
    "# Convert columns to numeric and handle errors\n",
    "for column in columns:\n",
    "    df_control[column] = pd.to_numeric(df_control[column], errors='coerce')\n",
    "    df_test[column] = pd.to_numeric(df_test[column], errors='coerce')\n",
    "\n",
    "# Drop rows with NaN values in specified columns\n",
    "df_control = df_control.dropna(subset=columns)\n",
    "df_test = df_test.dropna(subset=columns)\n",
    "\n",
    "# Create an empty list to store the results\n",
    "results = []  \n",
    "\n",
    "# Loop through the columns and apply the t-test\n",
    "for column in columns:  \n",
    "    t_stat, p_val = ttest_ind(df_control[column], df_test[column],alternative='less')  \n",
    "    results.append({'column': column, 't_stat': t_stat, 'p_val': p_val})  \n",
    "\n",
    "# Convert the results to a DataFrame\n",
    "results_df = pd.DataFrame(results)  \n",
    "\n",
    "# Print the results\n",
    "print(results_df) "
   ]
  },
  {
   "cell_type": "code",
   "execution_count": 55,
   "id": "151a8c9c-5e20-4037-814e-4fe14acefee3",
   "metadata": {},
   "outputs": [
    {
     "name": "stdout",
     "output_type": "stream",
     "text": [
      "           column    t_stat     p_val\n",
      "0  clnt_tenure_yr  1.714887  0.043186\n",
      "1        clnt_age  2.416146  0.007845\n",
      "2       num_accts  2.102157  0.017772\n",
      "3             bal  0.441342  0.329484\n",
      "4    calls_6_mnth  3.444647  0.000286\n",
      "5   logons_6_mnth  3.317964  0.000454\n"
     ]
    }
   ],
   "source": [
    "# Convert columns to numeric and handle errors\n",
    "for column in columns:\n",
    "    df_control[column] = pd.to_numeric(df_control[column], errors='coerce')\n",
    "    df_test[column] = pd.to_numeric(df_test[column], errors='coerce')\n",
    "\n",
    "# Drop rows with NaN values in specified columns\n",
    "df_control = df_control.dropna(subset=columns)\n",
    "df_test = df_test.dropna(subset=columns)\n",
    "\n",
    "# Create an empty list to store the results\n",
    "results = []  \n",
    "\n",
    "# Loop through the columns and apply the t-test\n",
    "for column in columns:  \n",
    "    t_stat, p_val = ttest_ind(df_control[column], df_test[column],alternative='greater')  \n",
    "    results.append({'column': column, 't_stat': t_stat, 'p_val': p_val})  \n",
    "\n",
    "# Convert the results to a DataFrame\n",
    "results_df = pd.DataFrame(results)  \n",
    "\n",
    "# Print the results\n",
    "print(results_df)"
   ]
  },
  {
   "cell_type": "code",
   "execution_count": 56,
   "id": "cf04f268-e5e0-4e6d-ba03-260111d50c4e",
   "metadata": {},
   "outputs": [
    {
     "data": {
      "text/html": [
       "<div>\n",
       "<style scoped>\n",
       "    .dataframe tbody tr th:only-of-type {\n",
       "        vertical-align: middle;\n",
       "    }\n",
       "\n",
       "    .dataframe tbody tr th {\n",
       "        vertical-align: top;\n",
       "    }\n",
       "\n",
       "    .dataframe thead th {\n",
       "        text-align: right;\n",
       "    }\n",
       "</style>\n",
       "<table border=\"1\" class=\"dataframe\">\n",
       "  <thead>\n",
       "    <tr style=\"text-align: right;\">\n",
       "      <th></th>\n",
       "      <th>client_id</th>\n",
       "      <th>clnt_tenure_yr</th>\n",
       "      <th>clnt_tenure_mnth</th>\n",
       "      <th>clnt_age</th>\n",
       "      <th>num_accts</th>\n",
       "      <th>bal</th>\n",
       "      <th>calls_6_mnth</th>\n",
       "      <th>logons_6_mnth</th>\n",
       "    </tr>\n",
       "  </thead>\n",
       "  <tbody>\n",
       "    <tr>\n",
       "      <th>count</th>\n",
       "      <td>2.352600e+04</td>\n",
       "      <td>23526.000000</td>\n",
       "      <td>23526.000000</td>\n",
       "      <td>23526.000000</td>\n",
       "      <td>23526.000000</td>\n",
       "      <td>2.352600e+04</td>\n",
       "      <td>23526.000000</td>\n",
       "      <td>23526.000000</td>\n",
       "    </tr>\n",
       "    <tr>\n",
       "      <th>mean</th>\n",
       "      <td>5.013676e+06</td>\n",
       "      <td>12.087860</td>\n",
       "      <td>151.062102</td>\n",
       "      <td>47.498427</td>\n",
       "      <td>2.259925</td>\n",
       "      <td>1.501519e+05</td>\n",
       "      <td>3.129176</td>\n",
       "      <td>6.166242</td>\n",
       "    </tr>\n",
       "    <tr>\n",
       "      <th>std</th>\n",
       "      <td>2.877414e+06</td>\n",
       "      <td>6.877626</td>\n",
       "      <td>82.127663</td>\n",
       "      <td>15.521781</td>\n",
       "      <td>0.538568</td>\n",
       "      <td>2.958124e+05</td>\n",
       "      <td>2.184541</td>\n",
       "      <td>2.173053</td>\n",
       "    </tr>\n",
       "    <tr>\n",
       "      <th>min</th>\n",
       "      <td>1.028000e+03</td>\n",
       "      <td>2.000000</td>\n",
       "      <td>33.000000</td>\n",
       "      <td>17.000000</td>\n",
       "      <td>2.000000</td>\n",
       "      <td>2.378961e+04</td>\n",
       "      <td>0.000000</td>\n",
       "      <td>3.000000</td>\n",
       "    </tr>\n",
       "    <tr>\n",
       "      <th>25%</th>\n",
       "      <td>2.515177e+06</td>\n",
       "      <td>6.000000</td>\n",
       "      <td>82.000000</td>\n",
       "      <td>33.500000</td>\n",
       "      <td>2.000000</td>\n",
       "      <td>4.012295e+04</td>\n",
       "      <td>1.000000</td>\n",
       "      <td>4.000000</td>\n",
       "    </tr>\n",
       "    <tr>\n",
       "      <th>50%</th>\n",
       "      <td>5.023832e+06</td>\n",
       "      <td>11.000000</td>\n",
       "      <td>137.000000</td>\n",
       "      <td>48.500000</td>\n",
       "      <td>2.000000</td>\n",
       "      <td>6.603145e+04</td>\n",
       "      <td>3.000000</td>\n",
       "      <td>6.000000</td>\n",
       "    </tr>\n",
       "    <tr>\n",
       "      <th>75%</th>\n",
       "      <td>7.483638e+06</td>\n",
       "      <td>16.000000</td>\n",
       "      <td>192.000000</td>\n",
       "      <td>60.000000</td>\n",
       "      <td>2.000000</td>\n",
       "      <td>1.406156e+05</td>\n",
       "      <td>5.000000</td>\n",
       "      <td>8.000000</td>\n",
       "    </tr>\n",
       "    <tr>\n",
       "      <th>max</th>\n",
       "      <td>9.998921e+06</td>\n",
       "      <td>55.000000</td>\n",
       "      <td>669.000000</td>\n",
       "      <td>96.000000</td>\n",
       "      <td>7.000000</td>\n",
       "      <td>8.292996e+06</td>\n",
       "      <td>6.000000</td>\n",
       "      <td>9.000000</td>\n",
       "    </tr>\n",
       "  </tbody>\n",
       "</table>\n",
       "</div>"
      ],
      "text/plain": [
       "          client_id  clnt_tenure_yr  clnt_tenure_mnth      clnt_age  \\\n",
       "count  2.352600e+04    23526.000000      23526.000000  23526.000000   \n",
       "mean   5.013676e+06       12.087860        151.062102     47.498427   \n",
       "std    2.877414e+06        6.877626         82.127663     15.521781   \n",
       "min    1.028000e+03        2.000000         33.000000     17.000000   \n",
       "25%    2.515177e+06        6.000000         82.000000     33.500000   \n",
       "50%    5.023832e+06       11.000000        137.000000     48.500000   \n",
       "75%    7.483638e+06       16.000000        192.000000     60.000000   \n",
       "max    9.998921e+06       55.000000        669.000000     96.000000   \n",
       "\n",
       "          num_accts           bal  calls_6_mnth  logons_6_mnth  \n",
       "count  23526.000000  2.352600e+04  23526.000000   23526.000000  \n",
       "mean       2.259925  1.501519e+05      3.129176       6.166242  \n",
       "std        0.538568  2.958124e+05      2.184541       2.173053  \n",
       "min        2.000000  2.378961e+04      0.000000       3.000000  \n",
       "25%        2.000000  4.012295e+04      1.000000       4.000000  \n",
       "50%        2.000000  6.603145e+04      3.000000       6.000000  \n",
       "75%        2.000000  1.406156e+05      5.000000       8.000000  \n",
       "max        7.000000  8.292996e+06      6.000000       9.000000  "
      ]
     },
     "execution_count": 56,
     "metadata": {},
     "output_type": "execute_result"
    }
   ],
   "source": [
    "df_control.describe()"
   ]
  },
  {
   "cell_type": "code",
   "execution_count": 57,
   "id": "c8f22b73-2aa2-400a-9752-bd5b978c5650",
   "metadata": {},
   "outputs": [
    {
     "data": {
      "text/html": [
       "<div>\n",
       "<style scoped>\n",
       "    .dataframe tbody tr th:only-of-type {\n",
       "        vertical-align: middle;\n",
       "    }\n",
       "\n",
       "    .dataframe tbody tr th {\n",
       "        vertical-align: top;\n",
       "    }\n",
       "\n",
       "    .dataframe thead th {\n",
       "        text-align: right;\n",
       "    }\n",
       "</style>\n",
       "<table border=\"1\" class=\"dataframe\">\n",
       "  <thead>\n",
       "    <tr style=\"text-align: right;\">\n",
       "      <th></th>\n",
       "      <th>client_id</th>\n",
       "      <th>clnt_tenure_yr</th>\n",
       "      <th>clnt_tenure_mnth</th>\n",
       "      <th>clnt_age</th>\n",
       "      <th>num_accts</th>\n",
       "      <th>bal</th>\n",
       "      <th>calls_6_mnth</th>\n",
       "      <th>logons_6_mnth</th>\n",
       "    </tr>\n",
       "  </thead>\n",
       "  <tbody>\n",
       "    <tr>\n",
       "      <th>count</th>\n",
       "      <td>2.696100e+04</td>\n",
       "      <td>26961.000000</td>\n",
       "      <td>26961.000000</td>\n",
       "      <td>26961.000000</td>\n",
       "      <td>26961.000000</td>\n",
       "      <td>2.696100e+04</td>\n",
       "      <td>26961.000000</td>\n",
       "      <td>26961.000000</td>\n",
       "    </tr>\n",
       "    <tr>\n",
       "      <th>mean</th>\n",
       "      <td>4.999639e+06</td>\n",
       "      <td>11.982901</td>\n",
       "      <td>149.852899</td>\n",
       "      <td>47.163922</td>\n",
       "      <td>2.249917</td>\n",
       "      <td>1.489626e+05</td>\n",
       "      <td>3.061941</td>\n",
       "      <td>6.101851</td>\n",
       "    </tr>\n",
       "    <tr>\n",
       "      <th>std</th>\n",
       "      <td>2.877510e+06</td>\n",
       "      <td>6.844947</td>\n",
       "      <td>81.783390</td>\n",
       "      <td>15.514461</td>\n",
       "      <td>0.529335</td>\n",
       "      <td>3.073737e+05</td>\n",
       "      <td>2.190590</td>\n",
       "      <td>2.177119</td>\n",
       "    </tr>\n",
       "    <tr>\n",
       "      <th>min</th>\n",
       "      <td>5.550000e+02</td>\n",
       "      <td>2.000000</td>\n",
       "      <td>33.000000</td>\n",
       "      <td>17.000000</td>\n",
       "      <td>1.000000</td>\n",
       "      <td>2.378944e+04</td>\n",
       "      <td>0.000000</td>\n",
       "      <td>3.000000</td>\n",
       "    </tr>\n",
       "    <tr>\n",
       "      <th>25%</th>\n",
       "      <td>2.516570e+06</td>\n",
       "      <td>6.000000</td>\n",
       "      <td>82.000000</td>\n",
       "      <td>33.500000</td>\n",
       "      <td>2.000000</td>\n",
       "      <td>3.972920e+04</td>\n",
       "      <td>1.000000</td>\n",
       "      <td>4.000000</td>\n",
       "    </tr>\n",
       "    <tr>\n",
       "      <th>50%</th>\n",
       "      <td>5.025928e+06</td>\n",
       "      <td>11.000000</td>\n",
       "      <td>134.000000</td>\n",
       "      <td>47.500000</td>\n",
       "      <td>2.000000</td>\n",
       "      <td>6.546836e+04</td>\n",
       "      <td>3.000000</td>\n",
       "      <td>6.000000</td>\n",
       "    </tr>\n",
       "    <tr>\n",
       "      <th>75%</th>\n",
       "      <td>7.470213e+06</td>\n",
       "      <td>15.000000</td>\n",
       "      <td>191.000000</td>\n",
       "      <td>59.500000</td>\n",
       "      <td>2.000000</td>\n",
       "      <td>1.394786e+05</td>\n",
       "      <td>5.000000</td>\n",
       "      <td>8.000000</td>\n",
       "    </tr>\n",
       "    <tr>\n",
       "      <th>max</th>\n",
       "      <td>9.999832e+06</td>\n",
       "      <td>55.000000</td>\n",
       "      <td>669.000000</td>\n",
       "      <td>96.000000</td>\n",
       "      <td>7.000000</td>\n",
       "      <td>1.632004e+07</td>\n",
       "      <td>6.000000</td>\n",
       "      <td>9.000000</td>\n",
       "    </tr>\n",
       "  </tbody>\n",
       "</table>\n",
       "</div>"
      ],
      "text/plain": [
       "          client_id  clnt_tenure_yr  clnt_tenure_mnth      clnt_age  \\\n",
       "count  2.696100e+04    26961.000000      26961.000000  26961.000000   \n",
       "mean   4.999639e+06       11.982901        149.852899     47.163922   \n",
       "std    2.877510e+06        6.844947         81.783390     15.514461   \n",
       "min    5.550000e+02        2.000000         33.000000     17.000000   \n",
       "25%    2.516570e+06        6.000000         82.000000     33.500000   \n",
       "50%    5.025928e+06       11.000000        134.000000     47.500000   \n",
       "75%    7.470213e+06       15.000000        191.000000     59.500000   \n",
       "max    9.999832e+06       55.000000        669.000000     96.000000   \n",
       "\n",
       "          num_accts           bal  calls_6_mnth  logons_6_mnth  \n",
       "count  26961.000000  2.696100e+04  26961.000000   26961.000000  \n",
       "mean       2.249917  1.489626e+05      3.061941       6.101851  \n",
       "std        0.529335  3.073737e+05      2.190590       2.177119  \n",
       "min        1.000000  2.378944e+04      0.000000       3.000000  \n",
       "25%        2.000000  3.972920e+04      1.000000       4.000000  \n",
       "50%        2.000000  6.546836e+04      3.000000       6.000000  \n",
       "75%        2.000000  1.394786e+05      5.000000       8.000000  \n",
       "max        7.000000  1.632004e+07      6.000000       9.000000  "
      ]
     },
     "execution_count": 57,
     "metadata": {},
     "output_type": "execute_result"
    }
   ],
   "source": [
    "df_test.describe()"
   ]
  },
  {
   "cell_type": "code",
   "execution_count": 58,
   "id": "47b4cdcb-1494-4d33-bc36-1247377f7959",
   "metadata": {},
   "outputs": [
    {
     "data": {
      "text/html": [
       "<div>\n",
       "<style scoped>\n",
       "    .dataframe tbody tr th:only-of-type {\n",
       "        vertical-align: middle;\n",
       "    }\n",
       "\n",
       "    .dataframe tbody tr th {\n",
       "        vertical-align: top;\n",
       "    }\n",
       "\n",
       "    .dataframe thead th {\n",
       "        text-align: right;\n",
       "    }\n",
       "</style>\n",
       "<table border=\"1\" class=\"dataframe\">\n",
       "  <thead>\n",
       "    <tr style=\"text-align: right;\">\n",
       "      <th></th>\n",
       "      <th>client_id</th>\n",
       "      <th>clnt_tenure_yr</th>\n",
       "      <th>clnt_tenure_mnth</th>\n",
       "      <th>clnt_age</th>\n",
       "      <th>bal</th>\n",
       "      <th>calls_6_mnth</th>\n",
       "      <th>logons_6_mnth</th>\n",
       "    </tr>\n",
       "  </thead>\n",
       "  <tbody>\n",
       "    <tr>\n",
       "      <th>count</th>\n",
       "      <td>7.059400e+04</td>\n",
       "      <td>70594.000000</td>\n",
       "      <td>70594.000000</td>\n",
       "      <td>70594.000000</td>\n",
       "      <td>7.059400e+04</td>\n",
       "      <td>70594.000000</td>\n",
       "      <td>70594.000000</td>\n",
       "    </tr>\n",
       "    <tr>\n",
       "      <th>mean</th>\n",
       "      <td>5.005026e+06</td>\n",
       "      <td>12.053007</td>\n",
       "      <td>150.659999</td>\n",
       "      <td>46.442240</td>\n",
       "      <td>1.474467e+05</td>\n",
       "      <td>3.382469</td>\n",
       "      <td>5.566720</td>\n",
       "    </tr>\n",
       "    <tr>\n",
       "      <th>std</th>\n",
       "      <td>2.877289e+06</td>\n",
       "      <td>6.871850</td>\n",
       "      <td>82.090264</td>\n",
       "      <td>15.591273</td>\n",
       "      <td>3.015106e+05</td>\n",
       "      <td>2.236595</td>\n",
       "      <td>2.353296</td>\n",
       "    </tr>\n",
       "    <tr>\n",
       "      <th>min</th>\n",
       "      <td>1.690000e+02</td>\n",
       "      <td>2.000000</td>\n",
       "      <td>33.000000</td>\n",
       "      <td>13.500000</td>\n",
       "      <td>1.378942e+04</td>\n",
       "      <td>0.000000</td>\n",
       "      <td>1.000000</td>\n",
       "    </tr>\n",
       "    <tr>\n",
       "      <th>25%</th>\n",
       "      <td>2.519543e+06</td>\n",
       "      <td>6.000000</td>\n",
       "      <td>82.000000</td>\n",
       "      <td>32.500000</td>\n",
       "      <td>3.734660e+04</td>\n",
       "      <td>1.000000</td>\n",
       "      <td>4.000000</td>\n",
       "    </tr>\n",
       "    <tr>\n",
       "      <th>50%</th>\n",
       "      <td>5.016974e+06</td>\n",
       "      <td>11.000000</td>\n",
       "      <td>136.000000</td>\n",
       "      <td>47.000000</td>\n",
       "      <td>6.333459e+04</td>\n",
       "      <td>3.000000</td>\n",
       "      <td>5.000000</td>\n",
       "    </tr>\n",
       "    <tr>\n",
       "      <th>75%</th>\n",
       "      <td>7.483074e+06</td>\n",
       "      <td>16.000000</td>\n",
       "      <td>192.000000</td>\n",
       "      <td>59.000000</td>\n",
       "      <td>1.375461e+05</td>\n",
       "      <td>6.000000</td>\n",
       "      <td>7.000000</td>\n",
       "    </tr>\n",
       "    <tr>\n",
       "      <th>max</th>\n",
       "      <td>9.999839e+06</td>\n",
       "      <td>62.000000</td>\n",
       "      <td>749.000000</td>\n",
       "      <td>96.000000</td>\n",
       "      <td>1.632004e+07</td>\n",
       "      <td>7.000000</td>\n",
       "      <td>9.000000</td>\n",
       "    </tr>\n",
       "  </tbody>\n",
       "</table>\n",
       "</div>"
      ],
      "text/plain": [
       "          client_id  clnt_tenure_yr  clnt_tenure_mnth      clnt_age  \\\n",
       "count  7.059400e+04    70594.000000      70594.000000  70594.000000   \n",
       "mean   5.005026e+06       12.053007        150.659999     46.442240   \n",
       "std    2.877289e+06        6.871850         82.090264     15.591273   \n",
       "min    1.690000e+02        2.000000         33.000000     13.500000   \n",
       "25%    2.519543e+06        6.000000         82.000000     32.500000   \n",
       "50%    5.016974e+06       11.000000        136.000000     47.000000   \n",
       "75%    7.483074e+06       16.000000        192.000000     59.000000   \n",
       "max    9.999839e+06       62.000000        749.000000     96.000000   \n",
       "\n",
       "                bal  calls_6_mnth  logons_6_mnth  \n",
       "count  7.059400e+04  70594.000000   70594.000000  \n",
       "mean   1.474467e+05      3.382469       5.566720  \n",
       "std    3.015106e+05      2.236595       2.353296  \n",
       "min    1.378942e+04      0.000000       1.000000  \n",
       "25%    3.734660e+04      1.000000       4.000000  \n",
       "50%    6.333459e+04      3.000000       5.000000  \n",
       "75%    1.375461e+05      6.000000       7.000000  \n",
       "max    1.632004e+07      7.000000       9.000000  "
      ]
     },
     "execution_count": 58,
     "metadata": {},
     "output_type": "execute_result"
    }
   ],
   "source": [
    "data_demo.describe()"
   ]
  },
  {
   "cell_type": "code",
   "execution_count": null,
   "id": "22bee7bd-deb7-44b7-afae-6ddda878f795",
   "metadata": {},
   "outputs": [],
   "source": []
  }
 ],
 "metadata": {
  "kernelspec": {
   "display_name": "Python 3 (ipykernel)",
   "language": "python",
   "name": "python3"
  },
  "language_info": {
   "codemirror_mode": {
    "name": "ipython",
    "version": 3
   },
   "file_extension": ".py",
   "mimetype": "text/x-python",
   "name": "python",
   "nbconvert_exporter": "python",
   "pygments_lexer": "ipython3",
   "version": "3.11.7"
  }
 },
 "nbformat": 4,
 "nbformat_minor": 5
}
