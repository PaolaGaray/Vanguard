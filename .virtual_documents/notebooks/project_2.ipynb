


import pandas as pd


# Datasets:

df_final_web_data_pt_1 = pd.read_csv('../data/raw/df_final_web_data_pt_1.txt', sep=',')
df_final_web_data_pt_2 = pd.read_csv('../data/raw/df_final_web_data_pt_2.txt', sep=',')

df_final_experiment_clients = pd.read_csv('../data/raw/df_final_experiment_clients.txt', sep=',')


df_final_web_data_pt_1.shape


df_final_web_data_pt_2.shape


# Merge Digital Footprints datasets
df_final_web_data = pd.concat([df_final_web_data_pt_1, df_final_web_data_pt_2], ignore_index=True)
df_final_web_data.shape


# Checking for null values in df_final_web_data.
df_final_web_data.isnull().sum()


df_final_web_data.head()


df_final_experiment_clients.head()


# Checking for null values in df_final_experiment_clients
df_final_experiment_clients.isnull().sum()


# Drop rows with any null values in df_final_experiment_clients
df_final_experiment_clients_cleaned = df_final_experiment_clients.dropna()

# verification:
df_final_experiment_clients_cleaned.isnull().sum()


df_final_experiment_clients_cleaned.shape


# We will analyze only the observations that are part of the AB test, specifically those with a defined 'Variation'.
# To achieve this, we will perform an inner join.

# Perform an inner join on the two DataFrames using the 'client_id' column
df_experiment_data = pd.merge(df_final_web_data, df_final_experiment_clients_cleaned, on='client_id', how='inner')

df_experiment_data.head()
