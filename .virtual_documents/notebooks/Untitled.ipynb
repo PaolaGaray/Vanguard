


import pandas as pd
import matplotlib.pyplot as plt
import seaborn as sns
import numpy as np

%matplotlib inline


# Dataset:

df_final = pd.read_csv('../data/clean/df_final_AB_test_dataset', sep=',')


df_final.shape


# Analysing the unique values
df_final.nunique()


# We want to analyze the user interactions for each step across the two variations: Control and Test

# Group by 'variation' and 'process_step' and then count the occurrences
observation_counts = df_final.groupby(['Variation', 'process_step']).size().unstack()

# Display the resulting table
display(observation_counts)


import plotly.graph_objects as go

# Function to calculate drop-off percentages
def calculate_dropoff_percentages(funnel):
    dropoffs = []
    for i in range(1, len(funnel)):
        dropoff = (funnel[i-1] - funnel[i]) / funnel[i-1] * 100
        dropoffs.append(f"{dropoff:.2f}%")
    dropoffs.insert(0, "Start")  # No drop-off for the first step
    return dropoffs

# Data
stages = ['start', 'step_1', 'step_2', 'step_3', 'confirm']
control = [45380, 29544, 25773, 22503, 17336]  # Funnel A
test = [55773, 38666, 30899, 22503, 17336]    # Funnel B

# Calculate drop-off percentages
control_dropoffs = calculate_dropoff_percentages(control)
test_dropoffs = calculate_dropoff_percentages(test)

# Create the funnel chart with larger figure size
fig = go.Figure()

# Funnel A with larger drop-off percentages inside the funnel
fig.add_trace(go.Funnel(
    name='Control',
    y=stages,
    x=control,
    text=control_dropoffs,
    textinfo="text+value+percent initial",
    textposition="inside",
    textfont=dict(size=16)  # Increase font size specifically for inside funnel
))

# Funnel B with larger drop-off percentages inside the funnel
fig.add_trace(go.Funnel(
    name='Test',
    y=stages,
    x=test,
    text=test_dropoffs,
    textinfo="text+value+percent initial",
    textposition="inside",
    textfont=dict(size=16)  # Increase font size specifically for inside funnel
))

# Increase the size of the figure to allow more space for text
fig.update_layout(
    title="A/B Test Funnel Comparison with Drop-off Percentages",
    height=500,  # Increase height to make more room
    width=900   # Increase width if necessary
)

fig.show()







